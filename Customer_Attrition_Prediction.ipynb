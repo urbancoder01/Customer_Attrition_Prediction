{
  "cells": [
    {
      "cell_type": "code",
      "execution_count": 97,
      "metadata": {
        "id": "lDnFzsv81viD"
      },
      "outputs": [],
      "source": [
        "import pandas as pd\n",
        "import numpy as np"
      ]
    },
    {
      "cell_type": "code",
      "execution_count": 98,
      "metadata": {
        "id": "huTDDE_BALNY"
      },
      "outputs": [],
      "source": [
        "train_df = pd.read_csv('train.csv', sep=',') \n",
        "test_x = pd.read_csv('test.csv', sep=',') "
      ]
    },
    {
      "cell_type": "code",
      "execution_count": 99,
      "metadata": {
        "colab": {
          "base_uri": "https://localhost:8080/"
        },
        "id": "ZRrsQewJF9T-",
        "outputId": "49d62a3f-0463-46f0-b2ab-4af297b9bf86"
      },
      "outputs": [
        {
          "name": "stdout",
          "output_type": "stream",
          "text": [
            "                     ID     sex Aged Married TotalDependents  ServiceSpan  \\\n",
            "0  B60LHTZLLPFU4IULNPUF  Female   No      No             Yes           48   \n",
            "1  1RUJ7ONYZHYTWKOKO1SD    Male   No     Yes              No           45   \n",
            "2  DZ9EEOQWSN0MYCBUPAM5    Male  Yes     Yes              No           59   \n",
            "3  YZ43L1UQUQACTL1PXXZG    Male   No      No              No           14   \n",
            "4  6P28152QGF60PDLSCB9M  Female   No     Yes             Yes           25   \n",
            "\n",
            "  MobileService       4GService CyberProtection HardwareSupport  \\\n",
            "0           Yes  Wifi Broadband              No             Yes   \n",
            "1           Yes  Wifi Broadband              No              No   \n",
            "2           Yes  Wifi Broadband             Yes              No   \n",
            "3           Yes  Wifi Broadband              No              No   \n",
            "4           Yes  Wifi Broadband              No             Yes   \n",
            "\n",
            "  TechnicalAssistance FilmSubscription SettlementProcess  QuarterlyPayment  \\\n",
            "0                 Yes               No             Check         96.259802   \n",
            "1                  No              Yes              Bank         18.876470   \n",
            "2                 Yes               No              Card        106.016057   \n",
            "3                  No               No             Check         80.108839   \n",
            "4                  No              Yes             Check         51.529773   \n",
            "\n",
            "   GrandPayment CustomerAttrition  \n",
            "0   4628.129119               Yes  \n",
            "1    922.085998                No  \n",
            "2   6205.891129               Yes  \n",
            "3   1248.655391                No  \n",
            "4   1285.321277                No  \n",
            "                     ID     sex Aged Married TotalDependents  ServiceSpan  \\\n",
            "0  WMORTPCG3HTIPEFSGUFY    Male   No      No              No            8   \n",
            "1  GBLPEA16C3KGBO57KEFO  Female   No      No              No           26   \n",
            "2  IDCQS0CO5P29AMKY3LO1    Male   No      No              No           66   \n",
            "3  1IY29SDITYU6IFZ4KJB0  Female  Yes      No              No           31   \n",
            "4  T5XMW5B0YPCONH30WJD2  Female   No     Yes             Yes           21   \n",
            "\n",
            "  MobileService            4GService CyberProtection HardwareSupport  \\\n",
            "0           Yes       Wifi Broadband              No              No   \n",
            "1           Yes  Satellite Broadband              No             Yes   \n",
            "2           Yes  Satellite Broadband              No              No   \n",
            "3           Yes  Satellite Broadband              No              No   \n",
            "4           Yes  Satellite Broadband              No              No   \n",
            "\n",
            "  TechnicalAssistance FilmSubscription SettlementProcess  QuarterlyPayment  \\\n",
            "0                  No              Yes             Check         21.299937   \n",
            "1                  No              Yes             Check         56.609623   \n",
            "2                  No              Yes              Card         25.167690   \n",
            "3                 Yes              Yes              Bank         55.560968   \n",
            "4                  No               No              Bank         20.070002   \n",
            "\n",
            "   GrandPayment  \n",
            "0    151.092519  \n",
            "1   1553.276979  \n",
            "2   1684.262416  \n",
            "3   1829.874462  \n",
            "4    489.818170  \n"
          ]
        }
      ],
      "source": [
        "print(train_df.head())\n",
        "print(test_x.head())"
      ]
    },
    {
      "cell_type": "code",
      "execution_count": 100,
      "metadata": {
        "colab": {
          "base_uri": "https://localhost:8080/"
        },
        "id": "gjQTJPUoJKDn",
        "outputId": "25a370d4-d16f-4313-a63e-14328954da42"
      },
      "outputs": [
        {
          "name": "stdout",
          "output_type": "stream",
          "text": [
            "<class 'pandas.core.frame.DataFrame'>\n",
            "RangeIndex: 6338 entries, 0 to 6337\n",
            "Data columns (total 16 columns):\n",
            " #   Column               Non-Null Count  Dtype  \n",
            "---  ------               --------------  -----  \n",
            " 0   ID                   6338 non-null   object \n",
            " 1   sex                  6338 non-null   object \n",
            " 2   Aged                 6338 non-null   object \n",
            " 3   Married              6338 non-null   object \n",
            " 4   TotalDependents      6338 non-null   object \n",
            " 5   ServiceSpan          6338 non-null   int64  \n",
            " 6   MobileService        6338 non-null   object \n",
            " 7   4GService            6338 non-null   object \n",
            " 8   CyberProtection      6338 non-null   object \n",
            " 9   HardwareSupport      6338 non-null   object \n",
            " 10  TechnicalAssistance  6338 non-null   object \n",
            " 11  FilmSubscription     6338 non-null   object \n",
            " 12  SettlementProcess    6338 non-null   object \n",
            " 13  QuarterlyPayment     6338 non-null   float64\n",
            " 14  GrandPayment         6328 non-null   float64\n",
            " 15  CustomerAttrition    6338 non-null   object \n",
            "dtypes: float64(2), int64(1), object(13)\n",
            "memory usage: 792.4+ KB\n",
            "<class 'pandas.core.frame.DataFrame'>\n",
            "RangeIndex: 705 entries, 0 to 704\n",
            "Data columns (total 15 columns):\n",
            " #   Column               Non-Null Count  Dtype  \n",
            "---  ------               --------------  -----  \n",
            " 0   ID                   705 non-null    object \n",
            " 1   sex                  705 non-null    object \n",
            " 2   Aged                 705 non-null    object \n",
            " 3   Married              705 non-null    object \n",
            " 4   TotalDependents      705 non-null    object \n",
            " 5   ServiceSpan          705 non-null    int64  \n",
            " 6   MobileService        705 non-null    object \n",
            " 7   4GService            705 non-null    object \n",
            " 8   CyberProtection      705 non-null    object \n",
            " 9   HardwareSupport      705 non-null    object \n",
            " 10  TechnicalAssistance  705 non-null    object \n",
            " 11  FilmSubscription     705 non-null    object \n",
            " 12  SettlementProcess    705 non-null    object \n",
            " 13  QuarterlyPayment     705 non-null    float64\n",
            " 14  GrandPayment         704 non-null    float64\n",
            "dtypes: float64(2), int64(1), object(12)\n",
            "memory usage: 82.7+ KB\n"
          ]
        }
      ],
      "source": [
        "train_df.info()\n",
        "test_x.info()"
      ]
    },
    {
      "cell_type": "code",
      "execution_count": 101,
      "metadata": {
        "colab": {
          "base_uri": "https://localhost:8080/"
        },
        "id": "Xy1dL7oQJUif",
        "outputId": "3c9b2493-f2e6-4282-d7a6-993b2d5e85b5"
      },
      "outputs": [
        {
          "name": "stdout",
          "output_type": "stream",
          "text": [
            "feature 'sex' has 2 unique categories\n",
            "feature 'Aged' has 2 unique categories\n",
            "feature 'Married' has 2 unique categories\n",
            "feature 'TotalDependents' has 2 unique categories\n",
            "feature 'MobileService' has 2 unique categories\n",
            "feature '4GService' has 3 unique categories\n",
            "feature 'CyberProtection' has 2 unique categories\n",
            "feature 'HardwareSupport' has 2 unique categories\n",
            "feature 'TechnicalAssistance' has 2 unique categories\n",
            "feature 'FilmSubscription' has 2 unique categories\n",
            "feature 'SettlementProcess' has 4 unique categories\n",
            "feature 'CustomerAttrition' has 2 unique categories\n"
          ]
        }
      ],
      "source": [
        "#Exploring categorical data\n",
        "cat_col = []\n",
        "for col_name in train_df.columns:\n",
        "    if train_df[col_name].dtypes == 'object' and col_name!='ID' :\n",
        "        cat_col.append(col_name)\n",
        "        unique_cat = len(train_df[col_name].unique())\n",
        "        print(f\"feature '{col_name}' has {unique_cat} unique categories\")"
      ]
    },
    {
      "cell_type": "code",
      "execution_count": 102,
      "metadata": {
        "id": "Pk7BkTZYk-aI"
      },
      "outputs": [],
      "source": [
        "from sklearn.preprocessing import OneHotEncoder, LabelEncoder\n",
        "le = LabelEncoder()\n",
        "\n",
        "train_df.drop(columns='ID',inplace=True)\n",
        "test_x.drop(columns='ID',inplace=True)\n",
        "\n",
        "for col in cat_col:\n",
        "  train_df[col] = le.fit_transform(train_df[col])  \n",
        "  if col!='CustomerAttrition':\n",
        "    test_x[col] = le.fit_transform(test_x[col])"
      ]
    },
    {
      "cell_type": "code",
      "execution_count": 103,
      "metadata": {
        "colab": {
          "base_uri": "https://localhost:8080/"
        },
        "id": "QCMqHChEU9nn",
        "outputId": "a4a6453e-0055-41ce-8fe3-a27f591e5f2e"
      },
      "outputs": [
        {
          "name": "stdout",
          "output_type": "stream",
          "text": [
            "<class 'pandas.core.frame.DataFrame'>\n",
            "RangeIndex: 6338 entries, 0 to 6337\n",
            "Data columns (total 15 columns):\n",
            " #   Column               Non-Null Count  Dtype  \n",
            "---  ------               --------------  -----  \n",
            " 0   sex                  6338 non-null   int32  \n",
            " 1   Aged                 6338 non-null   int32  \n",
            " 2   Married              6338 non-null   int32  \n",
            " 3   TotalDependents      6338 non-null   int32  \n",
            " 4   ServiceSpan          6338 non-null   int64  \n",
            " 5   MobileService        6338 non-null   int32  \n",
            " 6   4GService            6338 non-null   int32  \n",
            " 7   CyberProtection      6338 non-null   int32  \n",
            " 8   HardwareSupport      6338 non-null   int32  \n",
            " 9   TechnicalAssistance  6338 non-null   int32  \n",
            " 10  FilmSubscription     6338 non-null   int32  \n",
            " 11  SettlementProcess    6338 non-null   int32  \n",
            " 12  QuarterlyPayment     6338 non-null   float64\n",
            " 13  GrandPayment         6328 non-null   float64\n",
            " 14  CustomerAttrition    6338 non-null   int32  \n",
            "dtypes: float64(2), int32(12), int64(1)\n",
            "memory usage: 445.8 KB\n",
            "<class 'pandas.core.frame.DataFrame'>\n",
            "RangeIndex: 705 entries, 0 to 704\n",
            "Data columns (total 14 columns):\n",
            " #   Column               Non-Null Count  Dtype  \n",
            "---  ------               --------------  -----  \n",
            " 0   sex                  705 non-null    int32  \n",
            " 1   Aged                 705 non-null    int32  \n",
            " 2   Married              705 non-null    int32  \n",
            " 3   TotalDependents      705 non-null    int32  \n",
            " 4   ServiceSpan          705 non-null    int64  \n",
            " 5   MobileService        705 non-null    int32  \n",
            " 6   4GService            705 non-null    int32  \n",
            " 7   CyberProtection      705 non-null    int32  \n",
            " 8   HardwareSupport      705 non-null    int32  \n",
            " 9   TechnicalAssistance  705 non-null    int32  \n",
            " 10  FilmSubscription     705 non-null    int32  \n",
            " 11  SettlementProcess    705 non-null    int32  \n",
            " 12  QuarterlyPayment     705 non-null    float64\n",
            " 13  GrandPayment         704 non-null    float64\n",
            "dtypes: float64(2), int32(11), int64(1)\n",
            "memory usage: 46.9 KB\n"
          ]
        }
      ],
      "source": [
        "train_df.info()\n",
        "test_x.info()"
      ]
    },
    {
      "cell_type": "code",
      "execution_count": 104,
      "metadata": {
        "colab": {
          "base_uri": "https://localhost:8080/"
        },
        "id": "uOn7lF405-n6",
        "outputId": "9645cd35-2791-47a8-bb2b-3cc51698d171"
      },
      "outputs": [
        {
          "name": "stdout",
          "output_type": "stream",
          "text": [
            "<class 'pandas.core.frame.DataFrame'>\n",
            "RangeIndex: 6338 entries, 0 to 6337\n",
            "Data columns (total 15 columns):\n",
            " #   Column               Non-Null Count  Dtype  \n",
            "---  ------               --------------  -----  \n",
            " 0   sex                  6338 non-null   int32  \n",
            " 1   Aged                 6338 non-null   int32  \n",
            " 2   Married              6338 non-null   int32  \n",
            " 3   TotalDependents      6338 non-null   int32  \n",
            " 4   ServiceSpan          6338 non-null   int64  \n",
            " 5   MobileService        6338 non-null   int32  \n",
            " 6   4GService            6338 non-null   int32  \n",
            " 7   CyberProtection      6338 non-null   int32  \n",
            " 8   HardwareSupport      6338 non-null   int32  \n",
            " 9   TechnicalAssistance  6338 non-null   int32  \n",
            " 10  FilmSubscription     6338 non-null   int32  \n",
            " 11  SettlementProcess    6338 non-null   int32  \n",
            " 12  QuarterlyPayment     6338 non-null   float64\n",
            " 13  GrandPayment         6338 non-null   float64\n",
            " 14  CustomerAttrition    6338 non-null   int32  \n",
            "dtypes: float64(2), int32(12), int64(1)\n",
            "memory usage: 445.8 KB\n",
            "<class 'pandas.core.frame.DataFrame'>\n",
            "RangeIndex: 705 entries, 0 to 704\n",
            "Data columns (total 14 columns):\n",
            " #   Column               Non-Null Count  Dtype  \n",
            "---  ------               --------------  -----  \n",
            " 0   sex                  705 non-null    int32  \n",
            " 1   Aged                 705 non-null    int32  \n",
            " 2   Married              705 non-null    int32  \n",
            " 3   TotalDependents      705 non-null    int32  \n",
            " 4   ServiceSpan          705 non-null    int64  \n",
            " 5   MobileService        705 non-null    int32  \n",
            " 6   4GService            705 non-null    int32  \n",
            " 7   CyberProtection      705 non-null    int32  \n",
            " 8   HardwareSupport      705 non-null    int32  \n",
            " 9   TechnicalAssistance  705 non-null    int32  \n",
            " 10  FilmSubscription     705 non-null    int32  \n",
            " 11  SettlementProcess    705 non-null    int32  \n",
            " 12  QuarterlyPayment     705 non-null    float64\n",
            " 13  GrandPayment         705 non-null    float64\n",
            "dtypes: float64(2), int32(11), int64(1)\n",
            "memory usage: 46.9 KB\n"
          ]
        }
      ],
      "source": [
        "# Handling NULL\n",
        "\n",
        "train_df['GrandPayment'] = train_df['GrandPayment'].fillna(value = np.mean(train_df['GrandPayment']))\n",
        "\n",
        "test_x['GrandPayment'] = test_x['GrandPayment'].fillna(value = np.mean(test_x['GrandPayment']))\n",
        "\n",
        "train_df.info()\n",
        "test_x.info()"
      ]
    },
    {
      "cell_type": "code",
      "execution_count": 105,
      "metadata": {
        "colab": {
          "base_uri": "https://localhost:8080/",
          "height": 376
        },
        "id": "FDEFl-3b5icI",
        "outputId": "5139a443-3385-4068-c13f-94dc450d4603"
      },
      "outputs": [
        {
          "data": {
            "text/plain": [
              "<AxesSubplot:>"
            ]
          },
          "execution_count": 105,
          "metadata": {},
          "output_type": "execute_result"
        },
        {
          "data": {
            "image/png": "[encoded data removed]",
            "text/plain": [
              "<Figure size 432x288 with 2 Axes>"
            ]
          },
          "metadata": {
            "needs_background": "light"
          },
          "output_type": "display_data"
        }
      ],
      "source": [
        "import seaborn as sns\n",
        "sns.heatmap(train_df.corr())"
      ]
    },
    {
      "cell_type": "code",
      "execution_count": 106,
      "metadata": {},
      "outputs": [],
      "source": [
        "#dropping due to high magnitude of correlation\n",
        "\n",
        "train_df.drop(columns=['ServiceSpan'],inplace = True)\n",
        "test_x.drop(columns=['ServiceSpan'],inplace = True)\n"
      ]
    },
    {
      "cell_type": "code",
      "execution_count": 107,
      "metadata": {
        "id": "jy_mXuFl-Aom"
      },
      "outputs": [],
      "source": [
        "train_x = train_df.drop(columns='CustomerAttrition')\n",
        "train_y = train_df['CustomerAttrition']"
      ]
    },
    {
      "cell_type": "code",
      "execution_count": 108,
      "metadata": {
        "colab": {
          "base_uri": "https://localhost:8080/"
        },
        "id": "Jd_turTt3NfS",
        "outputId": "1d603e02-59f0-4518-8e7d-4a551ea5a32b"
      },
      "outputs": [],
      "source": [
        "from imblearn.over_sampling import SMOTE\n",
        "\n",
        "oversample = SMOTE()\n",
        "train_x, train_y = oversample.fit_resample(train_x, train_y)"
      ]
    },
    {
      "cell_type": "code",
      "execution_count": 109,
      "metadata": {
        "colab": {
          "base_uri": "https://localhost:8080/",
          "height": 281
        },
        "id": "TFR_pzpYRTR-",
        "outputId": "8e4d4064-f1c7-466c-b422-71dce91d7e06"
      },
      "outputs": [
        {
          "name": "stderr",
          "output_type": "stream",
          "text": [
            "c:\\Users\\singh\\AppData\\Local\\Programs\\Python\\Python38\\lib\\site-packages\\pandas\\plotting\\_matplotlib\\tools.py:400: MatplotlibDeprecationWarning: \n",
            "The is_first_col function was deprecated in Matplotlib 3.4 and will be removed two minor releases later. Use ax.get_subplotspec().is_first_col() instead.\n",
            "  if ax.is_first_col():\n"
          ]
        },
        {
          "data": {
            "image/png": "[encoded data removed]",
            "text/plain": [
              "<Figure size 432x288 with 16 Axes>"
            ]
          },
          "metadata": {
            "needs_background": "light"
          },
          "output_type": "display_data"
        }
      ],
      "source": [
        "import matplotlib.pyplot as plt\n",
        "\n",
        "pd.DataFrame(train_x).hist()\n",
        "plt.show()"
      ]
    },
    {
      "cell_type": "code",
      "execution_count": 110,
      "metadata": {
        "colab": {
          "base_uri": "https://localhost:8080/"
        },
        "id": "i0ZgmBfsQNEN",
        "outputId": "76656b64-d012-4823-c6bd-694c8654f39e"
      },
      "outputs": [
        {
          "data": {
            "text/plain": [
              "(9316, 13)"
            ]
          },
          "execution_count": 110,
          "metadata": {},
          "output_type": "execute_result"
        }
      ],
      "source": [
        "train_x.shape"
      ]
    },
    {
      "cell_type": "code",
      "execution_count": 111,
      "metadata": {
        "id": "ToxTDEX_6ezf"
      },
      "outputs": [],
      "source": [
        "from sklearn.model_selection import train_test_split\n",
        "\n",
        "x_train,x_valid, y_train, y_valid = train_test_split(train_x, train_y, test_size=0.2, random_state=42, stratify = train_y)\n"
      ]
    },
    {
      "cell_type": "code",
      "execution_count": 112,
      "metadata": {
        "colab": {
          "base_uri": "https://localhost:8080/"
        },
        "id": "gP7IlkED6ptv",
        "outputId": "c85aa978-7695-4a55-a199-7f70b60cec8f"
      },
      "outputs": [
        {
          "name": "stdout",
          "output_type": "stream",
          "text": [
            "              precision    recall  f1-score   support\n",
            "\n",
            "           0       0.82      0.79      0.81       932\n",
            "           1       0.80      0.83      0.81       932\n",
            "\n",
            "    accuracy                           0.81      1864\n",
            "   macro avg       0.81      0.81      0.81      1864\n",
            "weighted avg       0.81      0.81      0.81      1864\n",
            "\n",
            "Random Forest Accuracy:  0.8090128755364807\n"
          ]
        }
      ],
      "source": [
        "from sklearn.ensemble import RandomForestClassifier\n",
        "from sklearn.metrics import classification_report\n",
        "from sklearn.metrics import accuracy_score\n",
        "\n",
        "rfc = RandomForestClassifier(n_estimators=1000,random_state=0,min_samples_split=5)\n",
        "rfc.fit(x_train,y_train)\n",
        "\n",
        "rfc_pred = rfc.predict(x_valid)\n",
        "print(classification_report(y_valid,rfc_pred))\n",
        "print(\"Random Forest Accuracy: \",accuracy_score(y_valid, rfc_pred))\n"
      ]
    },
    {
      "cell_type": "code",
      "execution_count": 113,
      "metadata": {
        "colab": {
          "base_uri": "https://localhost:8080/"
        },
        "id": "TG1u3dYdXFP1",
        "outputId": "1fbf2654-7244-4ae1-a749-15f17005fb8e"
      },
      "outputs": [
        {
          "name": "stdout",
          "output_type": "stream",
          "text": [
            "              precision    recall  f1-score   support\n",
            "\n",
            "           0       0.82      0.77      0.80       932\n",
            "           1       0.79      0.83      0.81       932\n",
            "\n",
            "    accuracy                           0.80      1864\n",
            "   macro avg       0.80      0.80      0.80      1864\n",
            "weighted avg       0.80      0.80      0.80      1864\n",
            "\n",
            "AdaBoostClassifier Accuracy:  0.8036480686695279\n"
          ]
        }
      ],
      "source": [
        "from sklearn.ensemble import AdaBoostClassifier\n",
        "\n",
        "ada = AdaBoostClassifier(n_estimators=1000,learning_rate=0.5)\n",
        "ada.fit(x_train,y_train)\n",
        "ada_pred = ada.predict(x_valid)\n",
        "\n",
        "print(classification_report(y_valid,ada_pred))\n",
        "print(\"AdaBoostClassifier Accuracy: \",accuracy_score(y_valid, ada_pred))\n"
      ]
    },
    {
      "cell_type": "code",
      "execution_count": 114,
      "metadata": {
        "colab": {
          "base_uri": "https://localhost:8080/"
        },
        "id": "TezwmJ2kXikR",
        "outputId": "2c0dcbd3-98e9-4051-f4e8-5267ff2339ae"
      },
      "outputs": [
        {
          "name": "stdout",
          "output_type": "stream",
          "text": [
            "              precision    recall  f1-score   support\n",
            "\n",
            "           0       0.83      0.79      0.81       932\n",
            "           1       0.80      0.84      0.82       932\n",
            "\n",
            "    accuracy                           0.82      1864\n",
            "   macro avg       0.82      0.82      0.82      1864\n",
            "weighted avg       0.82      0.82      0.82      1864\n",
            "\n",
            "GradientBoostingClassifier Accuracy:  0.8175965665236051\n"
          ]
        }
      ],
      "source": [
        "from sklearn.ensemble import GradientBoostingClassifier\n",
        "\n",
        "gb = GradientBoostingClassifier(n_estimators=500)\n",
        "gb.fit(x_train,y_train)\n",
        "gb_pred = gb.predict(x_valid)\n",
        "\n",
        "print(classification_report(y_valid,gb_pred))\n",
        "print(\"GradientBoostingClassifier Accuracy: \",accuracy_score(y_valid, gb_pred))\n"
      ]
    },
    {
      "cell_type": "code",
      "execution_count": 115,
      "metadata": {
        "colab": {
          "base_uri": "https://localhost:8080/"
        },
        "id": "cE92U4o8Bwm8",
        "outputId": "6167c763-a93f-47e5-dfa0-d68faf497559"
      },
      "outputs": [
        {
          "name": "stdout",
          "output_type": "stream",
          "text": [
            "              precision    recall  f1-score   support\n",
            "\n",
            "           0       0.74      0.82      0.78       932\n",
            "           1       0.80      0.71      0.75       932\n",
            "\n",
            "    accuracy                           0.77      1864\n",
            "   macro avg       0.77      0.77      0.76      1864\n",
            "weighted avg       0.77      0.77      0.76      1864\n",
            "\n",
            "KNeighborsClassifier Accuracy:  0.7655579399141631\n"
          ]
        }
      ],
      "source": [
        "from sklearn.neighbors import KNeighborsClassifier\n",
        "\n",
        "knn = KNeighborsClassifier(2)\n",
        "knn.fit(x_train,y_train)\n",
        "knn_pred = knn.predict(x_valid)\n",
        "\n",
        "print(classification_report(y_valid,knn_pred))\n",
        "print(\"KNeighborsClassifier Accuracy: \",accuracy_score(y_valid, knn_pred))\n"
      ]
    },
    {
      "cell_type": "code",
      "execution_count": 116,
      "metadata": {
        "colab": {
          "base_uri": "https://localhost:8080/"
        },
        "id": "fBe9t7bGYQ3_",
        "outputId": "273abd55-ce6b-4f26-ddf6-ce82a768199f"
      },
      "outputs": [
        {
          "name": "stdout",
          "output_type": "stream",
          "text": [
            "              precision    recall  f1-score   support\n",
            "\n",
            "           0       0.79      0.78      0.78       932\n",
            "           1       0.78      0.79      0.79       932\n",
            "\n",
            "    accuracy                           0.79      1864\n",
            "   macro avg       0.79      0.79      0.79      1864\n",
            "weighted avg       0.79      0.79      0.79      1864\n",
            "\n",
            "ExtraTreesClassifier Accuracy:  0.7854077253218884\n"
          ]
        }
      ],
      "source": [
        "from sklearn.ensemble import ExtraTreesClassifier\n",
        "\n",
        "etc = ExtraTreesClassifier(n_estimators=800)\n",
        "etc.fit(x_train,y_train)\n",
        "etc_pred = etc.predict(x_valid)\n",
        "\n",
        "print(classification_report(y_valid,etc_pred))\n",
        "print(\"ExtraTreesClassifier Accuracy: \",accuracy_score(y_valid, etc_pred))\n"
      ]
    },
    {
      "cell_type": "code",
      "execution_count": 117,
      "metadata": {
        "colab": {
          "base_uri": "https://localhost:8080/"
        },
        "id": "mIdyODcfisrS",
        "outputId": "1fbb5b5a-52a7-4e4b-d3f3-e2a5bc47e791"
      },
      "outputs": [
        {
          "name": "stdout",
          "output_type": "stream",
          "text": [
            "0:\tlearn: 0.6215984\ttotal: 20.3ms\tremaining: 10.1s\n",
            "1:\tlearn: 0.5512200\ttotal: 23.2ms\tremaining: 5.76s\n",
            "2:\tlearn: 0.5278623\ttotal: 25.5ms\tremaining: 4.22s\n",
            "3:\tlearn: 0.4975364\ttotal: 27.9ms\tremaining: 3.46s\n",
            "4:\tlearn: 0.4848674\ttotal: 30.1ms\tremaining: 2.98s\n",
            "5:\tlearn: 0.4738413\ttotal: 32.5ms\tremaining: 2.67s\n",
            "6:\tlearn: 0.4646872\ttotal: 34.7ms\tremaining: 2.45s\n",
            "7:\tlearn: 0.4562610\ttotal: 37.1ms\tremaining: 2.28s\n",
            "8:\tlearn: 0.4477293\ttotal: 41.7ms\tremaining: 2.27s\n",
            "9:\tlearn: 0.4429899\ttotal: 46.8ms\tremaining: 2.29s\n",
            "10:\tlearn: 0.4397312\ttotal: 50.5ms\tremaining: 2.25s\n",
            "11:\tlearn: 0.4363099\ttotal: 53.1ms\tremaining: 2.16s\n",
            "12:\tlearn: 0.4346372\ttotal: 55.8ms\tremaining: 2.09s\n",
            "13:\tlearn: 0.4335308\ttotal: 58.2ms\tremaining: 2.02s\n",
            "14:\tlearn: 0.4308679\ttotal: 61.5ms\tremaining: 1.99s\n",
            "15:\tlearn: 0.4291935\ttotal: 68.7ms\tremaining: 2.08s\n",
            "16:\tlearn: 0.4271453\ttotal: 71.2ms\tremaining: 2.02s\n",
            "17:\tlearn: 0.4247878\ttotal: 73.5ms\tremaining: 1.97s\n",
            "18:\tlearn: 0.4241247\ttotal: 77.5ms\tremaining: 1.96s\n",
            "19:\tlearn: 0.4223953\ttotal: 80ms\tremaining: 1.92s\n",
            "20:\tlearn: 0.4201647\ttotal: 82.3ms\tremaining: 1.88s\n",
            "21:\tlearn: 0.4189327\ttotal: 84.9ms\tremaining: 1.84s\n",
            "22:\tlearn: 0.4174744\ttotal: 89.6ms\tremaining: 1.86s\n",
            "23:\tlearn: 0.4160558\ttotal: 92ms\tremaining: 1.82s\n",
            "24:\tlearn: 0.4139732\ttotal: 95.6ms\tremaining: 1.81s\n",
            "25:\tlearn: 0.4125211\ttotal: 97.8ms\tremaining: 1.78s\n",
            "26:\tlearn: 0.4116368\ttotal: 99.9ms\tremaining: 1.75s\n",
            "27:\tlearn: 0.4105023\ttotal: 103ms\tremaining: 1.74s\n",
            "28:\tlearn: 0.4096761\ttotal: 106ms\tremaining: 1.72s\n",
            "29:\tlearn: 0.4090718\ttotal: 108ms\tremaining: 1.69s\n",
            "30:\tlearn: 0.4083979\ttotal: 111ms\tremaining: 1.68s\n",
            "31:\tlearn: 0.4078045\ttotal: 114ms\tremaining: 1.67s\n",
            "32:\tlearn: 0.4072716\ttotal: 117ms\tremaining: 1.65s\n",
            "33:\tlearn: 0.4068122\ttotal: 119ms\tremaining: 1.63s\n",
            "34:\tlearn: 0.4061506\ttotal: 121ms\tremaining: 1.61s\n",
            "35:\tlearn: 0.4053319\ttotal: 124ms\tremaining: 1.59s\n",
            "36:\tlearn: 0.4048955\ttotal: 128ms\tremaining: 1.6s\n",
            "37:\tlearn: 0.4046164\ttotal: 130ms\tremaining: 1.58s\n",
            "38:\tlearn: 0.4040861\ttotal: 133ms\tremaining: 1.57s\n",
            "39:\tlearn: 0.4035459\ttotal: 137ms\tremaining: 1.57s\n",
            "40:\tlearn: 0.4030823\ttotal: 141ms\tremaining: 1.57s\n",
            "41:\tlearn: 0.4028023\ttotal: 144ms\tremaining: 1.57s\n",
            "42:\tlearn: 0.4023482\ttotal: 146ms\tremaining: 1.55s\n",
            "43:\tlearn: 0.4015976\ttotal: 149ms\tremaining: 1.55s\n",
            "44:\tlearn: 0.4009245\ttotal: 154ms\tremaining: 1.55s\n",
            "45:\tlearn: 0.4002814\ttotal: 158ms\tremaining: 1.56s\n",
            "46:\tlearn: 0.3997377\ttotal: 160ms\tremaining: 1.55s\n",
            "47:\tlearn: 0.3994718\ttotal: 164ms\tremaining: 1.54s\n",
            "48:\tlearn: 0.3989824\ttotal: 166ms\tremaining: 1.53s\n",
            "49:\tlearn: 0.3986127\ttotal: 169ms\tremaining: 1.52s\n",
            "50:\tlearn: 0.3978006\ttotal: 171ms\tremaining: 1.5s\n",
            "51:\tlearn: 0.3971615\ttotal: 173ms\tremaining: 1.49s\n",
            "52:\tlearn: 0.3968933\ttotal: 176ms\tremaining: 1.48s\n",
            "53:\tlearn: 0.3964034\ttotal: 179ms\tremaining: 1.47s\n",
            "54:\tlearn: 0.3956499\ttotal: 182ms\tremaining: 1.48s\n",
            "55:\tlearn: 0.3952273\ttotal: 185ms\tremaining: 1.47s\n",
            "56:\tlearn: 0.3949253\ttotal: 187ms\tremaining: 1.45s\n",
            "57:\tlearn: 0.3943246\ttotal: 190ms\tremaining: 1.45s\n",
            "58:\tlearn: 0.3938868\ttotal: 192ms\tremaining: 1.44s\n",
            "59:\tlearn: 0.3935876\ttotal: 195ms\tremaining: 1.43s\n",
            "60:\tlearn: 0.3930607\ttotal: 197ms\tremaining: 1.42s\n",
            "61:\tlearn: 0.3927553\ttotal: 200ms\tremaining: 1.41s\n",
            "62:\tlearn: 0.3925515\ttotal: 203ms\tremaining: 1.41s\n",
            "63:\tlearn: 0.3921078\ttotal: 205ms\tremaining: 1.4s\n",
            "64:\tlearn: 0.3917329\ttotal: 208ms\tremaining: 1.39s\n",
            "65:\tlearn: 0.3911880\ttotal: 210ms\tremaining: 1.38s\n",
            "66:\tlearn: 0.3910181\ttotal: 213ms\tremaining: 1.38s\n",
            "67:\tlearn: 0.3906677\ttotal: 215ms\tremaining: 1.37s\n",
            "68:\tlearn: 0.3902763\ttotal: 218ms\tremaining: 1.36s\n",
            "69:\tlearn: 0.3899896\ttotal: 220ms\tremaining: 1.35s\n",
            "70:\tlearn: 0.3897740\ttotal: 224ms\tremaining: 1.35s\n",
            "71:\tlearn: 0.3896291\ttotal: 229ms\tremaining: 1.36s\n",
            "72:\tlearn: 0.3894313\ttotal: 231ms\tremaining: 1.35s\n",
            "73:\tlearn: 0.3890959\ttotal: 234ms\tremaining: 1.35s\n",
            "74:\tlearn: 0.3887197\ttotal: 236ms\tremaining: 1.34s\n",
            "75:\tlearn: 0.3884163\ttotal: 239ms\tremaining: 1.33s\n",
            "76:\tlearn: 0.3881410\ttotal: 241ms\tremaining: 1.32s\n",
            "77:\tlearn: 0.3878425\ttotal: 243ms\tremaining: 1.32s\n",
            "78:\tlearn: 0.3875038\ttotal: 246ms\tremaining: 1.31s\n",
            "79:\tlearn: 0.3871424\ttotal: 248ms\tremaining: 1.3s\n",
            "80:\tlearn: 0.3868242\ttotal: 251ms\tremaining: 1.3s\n",
            "81:\tlearn: 0.3863457\ttotal: 253ms\tremaining: 1.29s\n",
            "82:\tlearn: 0.3860136\ttotal: 255ms\tremaining: 1.28s\n",
            "83:\tlearn: 0.3857532\ttotal: 257ms\tremaining: 1.27s\n",
            "84:\tlearn: 0.3854355\ttotal: 260ms\tremaining: 1.27s\n",
            "85:\tlearn: 0.3853035\ttotal: 263ms\tremaining: 1.27s\n",
            "86:\tlearn: 0.3850827\ttotal: 266ms\tremaining: 1.26s\n",
            "87:\tlearn: 0.3848690\ttotal: 269ms\tremaining: 1.26s\n",
            "88:\tlearn: 0.3846402\ttotal: 272ms\tremaining: 1.26s\n",
            "89:\tlearn: 0.3843997\ttotal: 275ms\tremaining: 1.25s\n",
            "90:\tlearn: 0.3841614\ttotal: 277ms\tremaining: 1.25s\n",
            "91:\tlearn: 0.3840608\ttotal: 279ms\tremaining: 1.24s\n",
            "92:\tlearn: 0.3838559\ttotal: 282ms\tremaining: 1.23s\n",
            "93:\tlearn: 0.3834586\ttotal: 284ms\tremaining: 1.23s\n",
            "94:\tlearn: 0.3833235\ttotal: 287ms\tremaining: 1.22s\n",
            "95:\tlearn: 0.3831677\ttotal: 289ms\tremaining: 1.22s\n",
            "96:\tlearn: 0.3830083\ttotal: 291ms\tremaining: 1.21s\n",
            "97:\tlearn: 0.3826113\ttotal: 294ms\tremaining: 1.21s\n",
            "98:\tlearn: 0.3823095\ttotal: 297ms\tremaining: 1.2s\n",
            "99:\tlearn: 0.3821380\ttotal: 300ms\tremaining: 1.2s\n",
            "100:\tlearn: 0.3817138\ttotal: 302ms\tremaining: 1.19s\n",
            "101:\tlearn: 0.3815327\ttotal: 304ms\tremaining: 1.19s\n",
            "102:\tlearn: 0.3813352\ttotal: 307ms\tremaining: 1.18s\n",
            "103:\tlearn: 0.3810687\ttotal: 309ms\tremaining: 1.18s\n",
            "104:\tlearn: 0.3808649\ttotal: 311ms\tremaining: 1.17s\n",
            "105:\tlearn: 0.3807774\ttotal: 315ms\tremaining: 1.17s\n",
            "106:\tlearn: 0.3805799\ttotal: 317ms\tremaining: 1.17s\n",
            "107:\tlearn: 0.3803287\ttotal: 320ms\tremaining: 1.16s\n",
            "108:\tlearn: 0.3800916\ttotal: 322ms\tremaining: 1.16s\n",
            "109:\tlearn: 0.3799282\ttotal: 324ms\tremaining: 1.15s\n",
            "110:\tlearn: 0.3796420\ttotal: 327ms\tremaining: 1.15s\n",
            "111:\tlearn: 0.3792874\ttotal: 330ms\tremaining: 1.14s\n",
            "112:\tlearn: 0.3791189\ttotal: 332ms\tremaining: 1.14s\n",
            "113:\tlearn: 0.3789566\ttotal: 334ms\tremaining: 1.13s\n",
            "114:\tlearn: 0.3788137\ttotal: 337ms\tremaining: 1.13s\n",
            "115:\tlearn: 0.3787001\ttotal: 340ms\tremaining: 1.12s\n",
            "116:\tlearn: 0.3785436\ttotal: 343ms\tremaining: 1.12s\n",
            "117:\tlearn: 0.3783365\ttotal: 345ms\tremaining: 1.12s\n",
            "118:\tlearn: 0.3781750\ttotal: 348ms\tremaining: 1.11s\n",
            "119:\tlearn: 0.3778259\ttotal: 351ms\tremaining: 1.11s\n",
            "120:\tlearn: 0.3776402\ttotal: 353ms\tremaining: 1.11s\n",
            "121:\tlearn: 0.3775071\ttotal: 356ms\tremaining: 1.1s\n",
            "122:\tlearn: 0.3772042\ttotal: 358ms\tremaining: 1.1s\n",
            "123:\tlearn: 0.3770247\ttotal: 361ms\tremaining: 1.09s\n",
            "124:\tlearn: 0.3767936\ttotal: 363ms\tremaining: 1.09s\n",
            "125:\tlearn: 0.3767191\ttotal: 366ms\tremaining: 1.08s\n",
            "126:\tlearn: 0.3763672\ttotal: 369ms\tremaining: 1.08s\n",
            "127:\tlearn: 0.3761308\ttotal: 371ms\tremaining: 1.08s\n",
            "128:\tlearn: 0.3760270\ttotal: 374ms\tremaining: 1.07s\n",
            "129:\tlearn: 0.3755666\ttotal: 376ms\tremaining: 1.07s\n",
            "130:\tlearn: 0.3754334\ttotal: 379ms\tremaining: 1.07s\n",
            "131:\tlearn: 0.3751720\ttotal: 381ms\tremaining: 1.06s\n",
            "132:\tlearn: 0.3751084\ttotal: 384ms\tremaining: 1.06s\n",
            "133:\tlearn: 0.3749808\ttotal: 386ms\tremaining: 1.05s\n",
            "134:\tlearn: 0.3748583\ttotal: 388ms\tremaining: 1.05s\n",
            "135:\tlearn: 0.3746549\ttotal: 392ms\tremaining: 1.05s\n",
            "136:\tlearn: 0.3745261\ttotal: 395ms\tremaining: 1.05s\n",
            "137:\tlearn: 0.3743838\ttotal: 398ms\tremaining: 1.04s\n",
            "138:\tlearn: 0.3741690\ttotal: 400ms\tremaining: 1.04s\n",
            "139:\tlearn: 0.3737781\ttotal: 402ms\tremaining: 1.03s\n",
            "140:\tlearn: 0.3735629\ttotal: 405ms\tremaining: 1.03s\n",
            "141:\tlearn: 0.3733511\ttotal: 407ms\tremaining: 1.03s\n",
            "142:\tlearn: 0.3730874\ttotal: 410ms\tremaining: 1.02s\n",
            "143:\tlearn: 0.3729184\ttotal: 412ms\tremaining: 1.02s\n",
            "144:\tlearn: 0.3726648\ttotal: 415ms\tremaining: 1.01s\n",
            "145:\tlearn: 0.3725073\ttotal: 418ms\tremaining: 1.01s\n",
            "146:\tlearn: 0.3723306\ttotal: 421ms\tremaining: 1.01s\n",
            "147:\tlearn: 0.3722230\ttotal: 424ms\tremaining: 1.01s\n",
            "148:\tlearn: 0.3720447\ttotal: 426ms\tremaining: 1s\n",
            "149:\tlearn: 0.3718885\ttotal: 428ms\tremaining: 999ms\n",
            "150:\tlearn: 0.3718279\ttotal: 432ms\tremaining: 999ms\n",
            "151:\tlearn: 0.3716463\ttotal: 435ms\tremaining: 997ms\n",
            "152:\tlearn: 0.3715625\ttotal: 439ms\tremaining: 995ms\n",
            "153:\tlearn: 0.3713991\ttotal: 441ms\tremaining: 991ms\n",
            "154:\tlearn: 0.3712838\ttotal: 444ms\tremaining: 988ms\n",
            "155:\tlearn: 0.3711579\ttotal: 447ms\tremaining: 985ms\n",
            "156:\tlearn: 0.3710760\ttotal: 449ms\tremaining: 982ms\n",
            "157:\tlearn: 0.3709588\ttotal: 452ms\tremaining: 978ms\n",
            "158:\tlearn: 0.3708393\ttotal: 454ms\tremaining: 975ms\n",
            "159:\tlearn: 0.3707305\ttotal: 457ms\tremaining: 972ms\n",
            "160:\tlearn: 0.3705236\ttotal: 459ms\tremaining: 968ms\n",
            "161:\tlearn: 0.3700629\ttotal: 463ms\tremaining: 965ms\n",
            "162:\tlearn: 0.3699960\ttotal: 465ms\tremaining: 962ms\n",
            "163:\tlearn: 0.3698559\ttotal: 468ms\tremaining: 959ms\n",
            "164:\tlearn: 0.3697007\ttotal: 471ms\tremaining: 957ms\n",
            "165:\tlearn: 0.3695971\ttotal: 475ms\tremaining: 956ms\n",
            "166:\tlearn: 0.3694500\ttotal: 479ms\tremaining: 955ms\n",
            "167:\tlearn: 0.3693539\ttotal: 482ms\tremaining: 952ms\n",
            "168:\tlearn: 0.3693067\ttotal: 484ms\tremaining: 948ms\n",
            "169:\tlearn: 0.3691959\ttotal: 487ms\tremaining: 945ms\n",
            "170:\tlearn: 0.3690443\ttotal: 490ms\tremaining: 942ms\n",
            "171:\tlearn: 0.3689388\ttotal: 493ms\tremaining: 941ms\n",
            "172:\tlearn: 0.3687592\ttotal: 496ms\tremaining: 937ms\n",
            "173:\tlearn: 0.3684952\ttotal: 499ms\tremaining: 935ms\n",
            "174:\tlearn: 0.3682033\ttotal: 501ms\tremaining: 931ms\n",
            "175:\tlearn: 0.3680599\ttotal: 506ms\tremaining: 931ms\n",
            "176:\tlearn: 0.3679669\ttotal: 509ms\tremaining: 929ms\n",
            "177:\tlearn: 0.3677859\ttotal: 512ms\tremaining: 926ms\n",
            "178:\tlearn: 0.3675998\ttotal: 514ms\tremaining: 922ms\n",
            "179:\tlearn: 0.3674311\ttotal: 517ms\tremaining: 920ms\n",
            "180:\tlearn: 0.3673639\ttotal: 521ms\tremaining: 919ms\n",
            "181:\tlearn: 0.3670562\ttotal: 524ms\tremaining: 916ms\n",
            "182:\tlearn: 0.3669611\ttotal: 529ms\tremaining: 917ms\n",
            "183:\tlearn: 0.3667488\ttotal: 532ms\tremaining: 914ms\n",
            "184:\tlearn: 0.3663142\ttotal: 536ms\tremaining: 912ms\n",
            "185:\tlearn: 0.3661966\ttotal: 539ms\tremaining: 910ms\n",
            "186:\tlearn: 0.3661267\ttotal: 542ms\tremaining: 907ms\n",
            "187:\tlearn: 0.3661045\ttotal: 545ms\tremaining: 904ms\n",
            "188:\tlearn: 0.3660247\ttotal: 548ms\tremaining: 901ms\n",
            "189:\tlearn: 0.3658940\ttotal: 551ms\tremaining: 899ms\n",
            "190:\tlearn: 0.3658352\ttotal: 555ms\tremaining: 899ms\n",
            "191:\tlearn: 0.3657672\ttotal: 560ms\tremaining: 898ms\n",
            "192:\tlearn: 0.3655716\ttotal: 562ms\tremaining: 894ms\n",
            "193:\tlearn: 0.3653408\ttotal: 565ms\tremaining: 891ms\n",
            "194:\tlearn: 0.3651439\ttotal: 567ms\tremaining: 887ms\n",
            "195:\tlearn: 0.3650319\ttotal: 569ms\tremaining: 883ms\n",
            "196:\tlearn: 0.3649022\ttotal: 571ms\tremaining: 879ms\n",
            "197:\tlearn: 0.3647640\ttotal: 573ms\tremaining: 875ms\n",
            "198:\tlearn: 0.3647162\ttotal: 576ms\tremaining: 871ms\n",
            "199:\tlearn: 0.3645476\ttotal: 580ms\tremaining: 869ms\n",
            "200:\tlearn: 0.3643934\ttotal: 582ms\tremaining: 866ms\n",
            "201:\tlearn: 0.3642794\ttotal: 585ms\tremaining: 863ms\n",
            "202:\tlearn: 0.3640800\ttotal: 588ms\tremaining: 860ms\n",
            "203:\tlearn: 0.3640356\ttotal: 591ms\tremaining: 857ms\n",
            "204:\tlearn: 0.3638904\ttotal: 593ms\tremaining: 854ms\n",
            "205:\tlearn: 0.3637583\ttotal: 596ms\tremaining: 850ms\n",
            "206:\tlearn: 0.3636042\ttotal: 598ms\tremaining: 846ms\n",
            "207:\tlearn: 0.3631603\ttotal: 601ms\tremaining: 843ms\n",
            "208:\tlearn: 0.3630066\ttotal: 607ms\tremaining: 844ms\n",
            "209:\tlearn: 0.3628820\ttotal: 609ms\tremaining: 841ms\n",
            "210:\tlearn: 0.3627637\ttotal: 611ms\tremaining: 837ms\n",
            "211:\tlearn: 0.3625164\ttotal: 614ms\tremaining: 834ms\n",
            "212:\tlearn: 0.3623485\ttotal: 616ms\tremaining: 830ms\n",
            "213:\tlearn: 0.3622774\ttotal: 618ms\tremaining: 826ms\n",
            "214:\tlearn: 0.3621465\ttotal: 621ms\tremaining: 823ms\n",
            "215:\tlearn: 0.3620591\ttotal: 623ms\tremaining: 820ms\n",
            "216:\tlearn: 0.3619791\ttotal: 626ms\tremaining: 816ms\n",
            "217:\tlearn: 0.3618068\ttotal: 630ms\tremaining: 814ms\n",
            "218:\tlearn: 0.3616694\ttotal: 632ms\tremaining: 811ms\n",
            "219:\tlearn: 0.3615802\ttotal: 634ms\tremaining: 807ms\n",
            "220:\tlearn: 0.3614575\ttotal: 636ms\tremaining: 804ms\n",
            "221:\tlearn: 0.3613863\ttotal: 639ms\tremaining: 800ms\n",
            "222:\tlearn: 0.3613103\ttotal: 641ms\tremaining: 796ms\n",
            "223:\tlearn: 0.3611896\ttotal: 643ms\tremaining: 793ms\n",
            "224:\tlearn: 0.3610348\ttotal: 646ms\tremaining: 789ms\n",
            "225:\tlearn: 0.3609230\ttotal: 648ms\tremaining: 785ms\n",
            "226:\tlearn: 0.3607957\ttotal: 652ms\tremaining: 784ms\n",
            "227:\tlearn: 0.3606649\ttotal: 655ms\tremaining: 781ms\n",
            "228:\tlearn: 0.3603835\ttotal: 657ms\tremaining: 778ms\n",
            "229:\tlearn: 0.3602451\ttotal: 659ms\tremaining: 774ms\n",
            "230:\tlearn: 0.3601464\ttotal: 662ms\tremaining: 770ms\n",
            "231:\tlearn: 0.3600716\ttotal: 664ms\tremaining: 767ms\n",
            "232:\tlearn: 0.3600087\ttotal: 667ms\tremaining: 765ms\n",
            "233:\tlearn: 0.3599530\ttotal: 670ms\tremaining: 761ms\n",
            "234:\tlearn: 0.3597420\ttotal: 672ms\tremaining: 758ms\n",
            "235:\tlearn: 0.3596284\ttotal: 675ms\tremaining: 756ms\n",
            "236:\tlearn: 0.3595057\ttotal: 678ms\tremaining: 753ms\n",
            "237:\tlearn: 0.3594017\ttotal: 681ms\tremaining: 750ms\n",
            "238:\tlearn: 0.3592792\ttotal: 683ms\tremaining: 746ms\n",
            "239:\tlearn: 0.3590948\ttotal: 685ms\tremaining: 742ms\n",
            "240:\tlearn: 0.3590087\ttotal: 688ms\tremaining: 739ms\n",
            "241:\tlearn: 0.3589047\ttotal: 690ms\tremaining: 736ms\n",
            "242:\tlearn: 0.3588606\ttotal: 692ms\tremaining: 732ms\n",
            "243:\tlearn: 0.3588240\ttotal: 696ms\tremaining: 730ms\n",
            "244:\tlearn: 0.3587539\ttotal: 698ms\tremaining: 727ms\n",
            "245:\tlearn: 0.3585602\ttotal: 701ms\tremaining: 724ms\n",
            "246:\tlearn: 0.3584317\ttotal: 704ms\tremaining: 722ms\n",
            "247:\tlearn: 0.3582569\ttotal: 707ms\tremaining: 718ms\n",
            "248:\tlearn: 0.3578383\ttotal: 711ms\tremaining: 716ms\n",
            "249:\tlearn: 0.3576476\ttotal: 714ms\tremaining: 714ms\n",
            "250:\tlearn: 0.3575347\ttotal: 717ms\tremaining: 711ms\n",
            "251:\tlearn: 0.3574635\ttotal: 719ms\tremaining: 708ms\n",
            "252:\tlearn: 0.3573025\ttotal: 723ms\tremaining: 705ms\n",
            "253:\tlearn: 0.3571472\ttotal: 725ms\tremaining: 702ms\n",
            "254:\tlearn: 0.3570720\ttotal: 728ms\tremaining: 699ms\n",
            "255:\tlearn: 0.3570544\ttotal: 730ms\tremaining: 696ms\n",
            "256:\tlearn: 0.3568997\ttotal: 732ms\tremaining: 692ms\n",
            "257:\tlearn: 0.3567814\ttotal: 735ms\tremaining: 689ms\n",
            "258:\tlearn: 0.3566955\ttotal: 738ms\tremaining: 686ms\n",
            "259:\tlearn: 0.3565812\ttotal: 740ms\tremaining: 683ms\n",
            "260:\tlearn: 0.3564008\ttotal: 743ms\tremaining: 680ms\n",
            "261:\tlearn: 0.3562047\ttotal: 746ms\tremaining: 678ms\n",
            "262:\tlearn: 0.3561394\ttotal: 748ms\tremaining: 674ms\n",
            "263:\tlearn: 0.3560062\ttotal: 751ms\tremaining: 671ms\n",
            "264:\tlearn: 0.3559333\ttotal: 754ms\tremaining: 669ms\n",
            "265:\tlearn: 0.3558400\ttotal: 757ms\tremaining: 666ms\n",
            "266:\tlearn: 0.3556749\ttotal: 760ms\tremaining: 663ms\n",
            "267:\tlearn: 0.3555533\ttotal: 763ms\tremaining: 660ms\n",
            "268:\tlearn: 0.3554733\ttotal: 765ms\tremaining: 657ms\n",
            "269:\tlearn: 0.3553792\ttotal: 768ms\tremaining: 655ms\n",
            "270:\tlearn: 0.3552969\ttotal: 771ms\tremaining: 652ms\n",
            "271:\tlearn: 0.3552228\ttotal: 774ms\tremaining: 649ms\n",
            "272:\tlearn: 0.3550802\ttotal: 776ms\tremaining: 645ms\n",
            "273:\tlearn: 0.3550210\ttotal: 778ms\tremaining: 642ms\n",
            "274:\tlearn: 0.3549569\ttotal: 781ms\tremaining: 639ms\n",
            "275:\tlearn: 0.3548080\ttotal: 784ms\tremaining: 636ms\n",
            "276:\tlearn: 0.3547094\ttotal: 786ms\tremaining: 633ms\n",
            "277:\tlearn: 0.3545880\ttotal: 788ms\tremaining: 629ms\n",
            "278:\tlearn: 0.3545139\ttotal: 791ms\tremaining: 627ms\n",
            "279:\tlearn: 0.3544114\ttotal: 794ms\tremaining: 624ms\n",
            "280:\tlearn: 0.3543188\ttotal: 796ms\tremaining: 620ms\n",
            "281:\tlearn: 0.3541103\ttotal: 798ms\tremaining: 617ms\n",
            "282:\tlearn: 0.3540717\ttotal: 802ms\tremaining: 615ms\n",
            "283:\tlearn: 0.3539983\ttotal: 804ms\tremaining: 611ms\n",
            "284:\tlearn: 0.3539306\ttotal: 807ms\tremaining: 609ms\n",
            "285:\tlearn: 0.3537838\ttotal: 810ms\tremaining: 606ms\n",
            "286:\tlearn: 0.3536502\ttotal: 812ms\tremaining: 603ms\n",
            "287:\tlearn: 0.3535471\ttotal: 815ms\tremaining: 600ms\n",
            "288:\tlearn: 0.3534741\ttotal: 818ms\tremaining: 597ms\n",
            "289:\tlearn: 0.3533561\ttotal: 820ms\tremaining: 594ms\n",
            "290:\tlearn: 0.3531474\ttotal: 822ms\tremaining: 590ms\n",
            "291:\tlearn: 0.3530971\ttotal: 824ms\tremaining: 587ms\n",
            "292:\tlearn: 0.3528541\ttotal: 827ms\tremaining: 584ms\n",
            "293:\tlearn: 0.3527241\ttotal: 830ms\tremaining: 581ms\n",
            "294:\tlearn: 0.3526791\ttotal: 832ms\tremaining: 578ms\n",
            "295:\tlearn: 0.3525937\ttotal: 834ms\tremaining: 575ms\n",
            "296:\tlearn: 0.3524911\ttotal: 836ms\tremaining: 572ms\n",
            "297:\tlearn: 0.3523729\ttotal: 839ms\tremaining: 569ms\n",
            "298:\tlearn: 0.3523420\ttotal: 842ms\tremaining: 566ms\n",
            "299:\tlearn: 0.3522318\ttotal: 845ms\tremaining: 563ms\n",
            "300:\tlearn: 0.3520662\ttotal: 847ms\tremaining: 560ms\n",
            "301:\tlearn: 0.3519966\ttotal: 851ms\tremaining: 558ms\n",
            "302:\tlearn: 0.3517417\ttotal: 854ms\tremaining: 555ms\n",
            "303:\tlearn: 0.3516797\ttotal: 856ms\tremaining: 552ms\n",
            "304:\tlearn: 0.3516014\ttotal: 858ms\tremaining: 549ms\n",
            "305:\tlearn: 0.3513854\ttotal: 862ms\tremaining: 547ms\n",
            "306:\tlearn: 0.3513382\ttotal: 865ms\tremaining: 544ms\n",
            "307:\tlearn: 0.3512400\ttotal: 867ms\tremaining: 541ms\n",
            "308:\tlearn: 0.3511162\ttotal: 869ms\tremaining: 537ms\n",
            "309:\tlearn: 0.3510136\ttotal: 872ms\tremaining: 534ms\n",
            "310:\tlearn: 0.3509111\ttotal: 875ms\tremaining: 531ms\n",
            "311:\tlearn: 0.3507673\ttotal: 877ms\tremaining: 529ms\n",
            "312:\tlearn: 0.3506317\ttotal: 880ms\tremaining: 526ms\n",
            "313:\tlearn: 0.3505899\ttotal: 883ms\tremaining: 523ms\n",
            "314:\tlearn: 0.3504013\ttotal: 887ms\tremaining: 521ms\n",
            "315:\tlearn: 0.3503242\ttotal: 890ms\tremaining: 518ms\n",
            "316:\tlearn: 0.3501563\ttotal: 892ms\tremaining: 515ms\n",
            "317:\tlearn: 0.3500779\ttotal: 894ms\tremaining: 512ms\n",
            "318:\tlearn: 0.3500194\ttotal: 898ms\tremaining: 509ms\n",
            "319:\tlearn: 0.3498726\ttotal: 900ms\tremaining: 506ms\n",
            "320:\tlearn: 0.3497835\ttotal: 903ms\tremaining: 503ms\n",
            "321:\tlearn: 0.3496788\ttotal: 905ms\tremaining: 500ms\n",
            "322:\tlearn: 0.3495807\ttotal: 907ms\tremaining: 497ms\n",
            "323:\tlearn: 0.3494936\ttotal: 910ms\tremaining: 494ms\n",
            "324:\tlearn: 0.3494834\ttotal: 914ms\tremaining: 492ms\n",
            "325:\tlearn: 0.3494408\ttotal: 917ms\tremaining: 489ms\n",
            "326:\tlearn: 0.3493168\ttotal: 919ms\tremaining: 486ms\n",
            "327:\tlearn: 0.3492874\ttotal: 922ms\tremaining: 483ms\n",
            "328:\tlearn: 0.3491345\ttotal: 925ms\tremaining: 481ms\n",
            "329:\tlearn: 0.3490706\ttotal: 927ms\tremaining: 478ms\n",
            "330:\tlearn: 0.3489690\ttotal: 930ms\tremaining: 475ms\n",
            "331:\tlearn: 0.3488903\ttotal: 933ms\tremaining: 472ms\n",
            "332:\tlearn: 0.3488652\ttotal: 936ms\tremaining: 469ms\n",
            "333:\tlearn: 0.3487640\ttotal: 939ms\tremaining: 467ms\n",
            "334:\tlearn: 0.3485841\ttotal: 942ms\tremaining: 464ms\n",
            "335:\tlearn: 0.3484878\ttotal: 944ms\tremaining: 461ms\n",
            "336:\tlearn: 0.3484199\ttotal: 946ms\tremaining: 458ms\n",
            "337:\tlearn: 0.3483285\ttotal: 949ms\tremaining: 455ms\n",
            "338:\tlearn: 0.3482820\ttotal: 952ms\tremaining: 452ms\n",
            "339:\tlearn: 0.3481880\ttotal: 954ms\tremaining: 449ms\n",
            "340:\tlearn: 0.3481059\ttotal: 958ms\tremaining: 447ms\n",
            "341:\tlearn: 0.3480163\ttotal: 961ms\tremaining: 444ms\n",
            "342:\tlearn: 0.3479230\ttotal: 963ms\tremaining: 441ms\n",
            "343:\tlearn: 0.3477502\ttotal: 965ms\tremaining: 438ms\n",
            "344:\tlearn: 0.3476268\ttotal: 967ms\tremaining: 435ms\n",
            "345:\tlearn: 0.3475575\ttotal: 970ms\tremaining: 432ms\n",
            "346:\tlearn: 0.3475017\ttotal: 973ms\tremaining: 429ms\n",
            "347:\tlearn: 0.3473736\ttotal: 975ms\tremaining: 426ms\n",
            "348:\tlearn: 0.3473039\ttotal: 980ms\tremaining: 424ms\n",
            "349:\tlearn: 0.3472199\ttotal: 983ms\tremaining: 421ms\n",
            "350:\tlearn: 0.3469991\ttotal: 985ms\tremaining: 418ms\n",
            "351:\tlearn: 0.3469131\ttotal: 988ms\tremaining: 415ms\n",
            "352:\tlearn: 0.3466540\ttotal: 990ms\tremaining: 412ms\n",
            "353:\tlearn: 0.3465660\ttotal: 992ms\tremaining: 409ms\n",
            "354:\tlearn: 0.3464987\ttotal: 995ms\tremaining: 406ms\n",
            "355:\tlearn: 0.3463991\ttotal: 997ms\tremaining: 403ms\n",
            "356:\tlearn: 0.3462451\ttotal: 999ms\tremaining: 400ms\n",
            "357:\tlearn: 0.3461721\ttotal: 1s\tremaining: 397ms\n",
            "358:\tlearn: 0.3461473\ttotal: 1s\tremaining: 394ms\n",
            "359:\tlearn: 0.3459635\ttotal: 1.01s\tremaining: 392ms\n",
            "360:\tlearn: 0.3458642\ttotal: 1.01s\tremaining: 389ms\n",
            "361:\tlearn: 0.3458326\ttotal: 1.01s\tremaining: 386ms\n",
            "362:\tlearn: 0.3457723\ttotal: 1.01s\tremaining: 383ms\n",
            "363:\tlearn: 0.3456160\ttotal: 1.02s\tremaining: 380ms\n",
            "364:\tlearn: 0.3454897\ttotal: 1.02s\tremaining: 378ms\n",
            "365:\tlearn: 0.3453879\ttotal: 1.02s\tremaining: 375ms\n",
            "366:\tlearn: 0.3453661\ttotal: 1.02s\tremaining: 372ms\n",
            "367:\tlearn: 0.3452740\ttotal: 1.03s\tremaining: 369ms\n",
            "368:\tlearn: 0.3452606\ttotal: 1.03s\tremaining: 366ms\n",
            "369:\tlearn: 0.3451448\ttotal: 1.03s\tremaining: 364ms\n",
            "370:\tlearn: 0.3450850\ttotal: 1.04s\tremaining: 361ms\n",
            "371:\tlearn: 0.3450062\ttotal: 1.04s\tremaining: 358ms\n",
            "372:\tlearn: 0.3449556\ttotal: 1.04s\tremaining: 355ms\n",
            "373:\tlearn: 0.3449020\ttotal: 1.04s\tremaining: 352ms\n",
            "374:\tlearn: 0.3447426\ttotal: 1.05s\tremaining: 349ms\n",
            "375:\tlearn: 0.3446399\ttotal: 1.05s\tremaining: 346ms\n",
            "376:\tlearn: 0.3445325\ttotal: 1.05s\tremaining: 344ms\n",
            "377:\tlearn: 0.3444307\ttotal: 1.06s\tremaining: 341ms\n",
            "378:\tlearn: 0.3443669\ttotal: 1.06s\tremaining: 338ms\n",
            "379:\tlearn: 0.3442653\ttotal: 1.06s\tremaining: 335ms\n",
            "380:\tlearn: 0.3441901\ttotal: 1.06s\tremaining: 332ms\n",
            "381:\tlearn: 0.3441533\ttotal: 1.07s\tremaining: 329ms\n",
            "382:\tlearn: 0.3439481\ttotal: 1.07s\tremaining: 327ms\n",
            "383:\tlearn: 0.3439004\ttotal: 1.07s\tremaining: 324ms\n",
            "384:\tlearn: 0.3438157\ttotal: 1.08s\tremaining: 322ms\n",
            "385:\tlearn: 0.3437916\ttotal: 1.08s\tremaining: 319ms\n",
            "386:\tlearn: 0.3436543\ttotal: 1.08s\tremaining: 316ms\n",
            "387:\tlearn: 0.3434116\ttotal: 1.08s\tremaining: 313ms\n",
            "388:\tlearn: 0.3433148\ttotal: 1.09s\tremaining: 310ms\n",
            "389:\tlearn: 0.3432332\ttotal: 1.09s\tremaining: 307ms\n",
            "390:\tlearn: 0.3431568\ttotal: 1.09s\tremaining: 305ms\n",
            "391:\tlearn: 0.3431013\ttotal: 1.1s\tremaining: 302ms\n",
            "392:\tlearn: 0.3429275\ttotal: 1.1s\tremaining: 299ms\n",
            "393:\tlearn: 0.3428802\ttotal: 1.1s\tremaining: 296ms\n",
            "394:\tlearn: 0.3428142\ttotal: 1.1s\tremaining: 293ms\n",
            "395:\tlearn: 0.3426518\ttotal: 1.11s\tremaining: 291ms\n",
            "396:\tlearn: 0.3425500\ttotal: 1.11s\tremaining: 288ms\n",
            "397:\tlearn: 0.3422127\ttotal: 1.11s\tremaining: 285ms\n",
            "398:\tlearn: 0.3420823\ttotal: 1.11s\tremaining: 282ms\n",
            "399:\tlearn: 0.3420484\ttotal: 1.12s\tremaining: 279ms\n",
            "400:\tlearn: 0.3418864\ttotal: 1.12s\tremaining: 277ms\n",
            "401:\tlearn: 0.3418479\ttotal: 1.12s\tremaining: 274ms\n",
            "402:\tlearn: 0.3417251\ttotal: 1.12s\tremaining: 271ms\n",
            "403:\tlearn: 0.3416913\ttotal: 1.13s\tremaining: 268ms\n",
            "404:\tlearn: 0.3416252\ttotal: 1.13s\tremaining: 265ms\n",
            "405:\tlearn: 0.3415498\ttotal: 1.13s\tremaining: 262ms\n",
            "406:\tlearn: 0.3414034\ttotal: 1.14s\tremaining: 259ms\n",
            "407:\tlearn: 0.3412623\ttotal: 1.14s\tremaining: 257ms\n",
            "408:\tlearn: 0.3411780\ttotal: 1.14s\tremaining: 254ms\n",
            "409:\tlearn: 0.3410966\ttotal: 1.14s\tremaining: 251ms\n",
            "410:\tlearn: 0.3410036\ttotal: 1.15s\tremaining: 248ms\n",
            "411:\tlearn: 0.3409181\ttotal: 1.15s\tremaining: 246ms\n",
            "412:\tlearn: 0.3408618\ttotal: 1.15s\tremaining: 243ms\n",
            "413:\tlearn: 0.3408095\ttotal: 1.16s\tremaining: 240ms\n",
            "414:\tlearn: 0.3407287\ttotal: 1.16s\tremaining: 237ms\n",
            "415:\tlearn: 0.3405712\ttotal: 1.16s\tremaining: 235ms\n",
            "416:\tlearn: 0.3405061\ttotal: 1.17s\tremaining: 232ms\n",
            "417:\tlearn: 0.3404302\ttotal: 1.17s\tremaining: 229ms\n",
            "418:\tlearn: 0.3403698\ttotal: 1.17s\tremaining: 226ms\n",
            "419:\tlearn: 0.3403443\ttotal: 1.17s\tremaining: 224ms\n",
            "420:\tlearn: 0.3402893\ttotal: 1.18s\tremaining: 221ms\n",
            "421:\tlearn: 0.3401969\ttotal: 1.18s\tremaining: 218ms\n",
            "422:\tlearn: 0.3401366\ttotal: 1.18s\tremaining: 215ms\n",
            "423:\tlearn: 0.3400421\ttotal: 1.19s\tremaining: 213ms\n",
            "424:\tlearn: 0.3399641\ttotal: 1.19s\tremaining: 210ms\n",
            "425:\tlearn: 0.3399277\ttotal: 1.19s\tremaining: 207ms\n",
            "426:\tlearn: 0.3397758\ttotal: 1.19s\tremaining: 204ms\n",
            "427:\tlearn: 0.3397042\ttotal: 1.2s\tremaining: 201ms\n",
            "428:\tlearn: 0.3396379\ttotal: 1.2s\tremaining: 198ms\n",
            "429:\tlearn: 0.3395392\ttotal: 1.2s\tremaining: 195ms\n",
            "430:\tlearn: 0.3394337\ttotal: 1.2s\tremaining: 193ms\n",
            "431:\tlearn: 0.3393863\ttotal: 1.21s\tremaining: 190ms\n",
            "432:\tlearn: 0.3392395\ttotal: 1.21s\tremaining: 187ms\n",
            "433:\tlearn: 0.3391666\ttotal: 1.21s\tremaining: 184ms\n",
            "434:\tlearn: 0.3390926\ttotal: 1.22s\tremaining: 182ms\n",
            "435:\tlearn: 0.3389987\ttotal: 1.22s\tremaining: 179ms\n",
            "436:\tlearn: 0.3389452\ttotal: 1.22s\tremaining: 176ms\n",
            "437:\tlearn: 0.3388906\ttotal: 1.23s\tremaining: 174ms\n",
            "438:\tlearn: 0.3388498\ttotal: 1.23s\tremaining: 171ms\n",
            "439:\tlearn: 0.3386485\ttotal: 1.23s\tremaining: 168ms\n",
            "440:\tlearn: 0.3385523\ttotal: 1.23s\tremaining: 165ms\n",
            "441:\tlearn: 0.3385262\ttotal: 1.24s\tremaining: 162ms\n",
            "442:\tlearn: 0.3385079\ttotal: 1.24s\tremaining: 160ms\n",
            "443:\tlearn: 0.3384555\ttotal: 1.24s\tremaining: 157ms\n",
            "444:\tlearn: 0.3384015\ttotal: 1.25s\tremaining: 154ms\n",
            "445:\tlearn: 0.3383360\ttotal: 1.25s\tremaining: 151ms\n",
            "446:\tlearn: 0.3382789\ttotal: 1.25s\tremaining: 148ms\n",
            "447:\tlearn: 0.3381188\ttotal: 1.25s\tremaining: 146ms\n",
            "448:\tlearn: 0.3380444\ttotal: 1.26s\tremaining: 143ms\n",
            "449:\tlearn: 0.3379819\ttotal: 1.26s\tremaining: 140ms\n",
            "450:\tlearn: 0.3379427\ttotal: 1.26s\tremaining: 137ms\n",
            "451:\tlearn: 0.3379010\ttotal: 1.27s\tremaining: 135ms\n",
            "452:\tlearn: 0.3378793\ttotal: 1.27s\tremaining: 132ms\n",
            "453:\tlearn: 0.3378154\ttotal: 1.27s\tremaining: 129ms\n",
            "454:\tlearn: 0.3377785\ttotal: 1.27s\tremaining: 126ms\n",
            "455:\tlearn: 0.3375881\ttotal: 1.28s\tremaining: 123ms\n",
            "456:\tlearn: 0.3375138\ttotal: 1.28s\tremaining: 121ms\n",
            "457:\tlearn: 0.3374900\ttotal: 1.28s\tremaining: 118ms\n",
            "458:\tlearn: 0.3373308\ttotal: 1.29s\tremaining: 115ms\n",
            "459:\tlearn: 0.3372252\ttotal: 1.29s\tremaining: 112ms\n",
            "460:\tlearn: 0.3371928\ttotal: 1.29s\tremaining: 109ms\n",
            "461:\tlearn: 0.3371466\ttotal: 1.29s\tremaining: 106ms\n",
            "462:\tlearn: 0.3370760\ttotal: 1.3s\tremaining: 104ms\n",
            "463:\tlearn: 0.3370163\ttotal: 1.3s\tremaining: 101ms\n",
            "464:\tlearn: 0.3369730\ttotal: 1.3s\tremaining: 97.9ms\n",
            "465:\tlearn: 0.3369228\ttotal: 1.3s\tremaining: 95.2ms\n",
            "466:\tlearn: 0.3368810\ttotal: 1.31s\tremaining: 92.3ms\n",
            "467:\tlearn: 0.3366923\ttotal: 1.31s\tremaining: 89.5ms\n",
            "468:\tlearn: 0.3366458\ttotal: 1.31s\tremaining: 86.7ms\n",
            "469:\tlearn: 0.3365736\ttotal: 1.31s\tremaining: 84ms\n",
            "470:\tlearn: 0.3364285\ttotal: 1.32s\tremaining: 81.2ms\n",
            "471:\tlearn: 0.3363433\ttotal: 1.32s\tremaining: 78.3ms\n",
            "472:\tlearn: 0.3363012\ttotal: 1.32s\tremaining: 75.5ms\n",
            "473:\tlearn: 0.3362709\ttotal: 1.32s\tremaining: 72.7ms\n",
            "474:\tlearn: 0.3361126\ttotal: 1.33s\tremaining: 69.9ms\n",
            "475:\tlearn: 0.3360017\ttotal: 1.33s\tremaining: 67.1ms\n",
            "476:\tlearn: 0.3358107\ttotal: 1.33s\tremaining: 64.3ms\n",
            "477:\tlearn: 0.3357481\ttotal: 1.34s\tremaining: 61.5ms\n",
            "478:\tlearn: 0.3356978\ttotal: 1.34s\tremaining: 58.7ms\n",
            "479:\tlearn: 0.3356573\ttotal: 1.34s\tremaining: 55.9ms\n",
            "480:\tlearn: 0.3355277\ttotal: 1.34s\tremaining: 53.1ms\n",
            "481:\tlearn: 0.3354891\ttotal: 1.35s\tremaining: 50.3ms\n",
            "482:\tlearn: 0.3354372\ttotal: 1.35s\tremaining: 47.5ms\n",
            "483:\tlearn: 0.3353700\ttotal: 1.35s\tremaining: 44.7ms\n",
            "484:\tlearn: 0.3352838\ttotal: 1.35s\tremaining: 41.9ms\n",
            "485:\tlearn: 0.3348422\ttotal: 1.36s\tremaining: 39.1ms\n",
            "486:\tlearn: 0.3347384\ttotal: 1.36s\tremaining: 36.3ms\n",
            "487:\tlearn: 0.3346790\ttotal: 1.36s\tremaining: 33.5ms\n",
            "488:\tlearn: 0.3346388\ttotal: 1.36s\tremaining: 30.7ms\n",
            "489:\tlearn: 0.3345542\ttotal: 1.37s\tremaining: 27.9ms\n",
            "490:\tlearn: 0.3344694\ttotal: 1.37s\tremaining: 25.1ms\n",
            "491:\tlearn: 0.3344004\ttotal: 1.37s\tremaining: 22.3ms\n",
            "492:\tlearn: 0.3343330\ttotal: 1.38s\tremaining: 19.5ms\n",
            "493:\tlearn: 0.3342687\ttotal: 1.38s\tremaining: 16.8ms\n",
            "494:\tlearn: 0.3342242\ttotal: 1.38s\tremaining: 14ms\n",
            "495:\tlearn: 0.3341945\ttotal: 1.38s\tremaining: 11.2ms\n",
            "496:\tlearn: 0.3341070\ttotal: 1.39s\tremaining: 8.37ms\n",
            "497:\tlearn: 0.3339953\ttotal: 1.39s\tremaining: 5.58ms\n",
            "498:\tlearn: 0.3339342\ttotal: 1.39s\tremaining: 2.79ms\n",
            "499:\tlearn: 0.3337714\ttotal: 1.39s\tremaining: 0us\n",
            "              precision    recall  f1-score   support\n",
            "\n",
            "           0       0.83      0.79      0.81       932\n",
            "           1       0.80      0.83      0.82       932\n",
            "\n",
            "    accuracy                           0.81      1864\n",
            "   macro avg       0.81      0.81      0.81      1864\n",
            "weighted avg       0.81      0.81      0.81      1864\n",
            "\n",
            "CatBoostClassifier Accuracy:  0.8111587982832618\n"
          ]
        }
      ],
      "source": [
        "\n",
        "from catboost import CatBoostClassifier\n",
        "\n",
        "cbr = CatBoostClassifier(iterations=500,learning_rate=0.5,depth=2)\n",
        "\n",
        "cbr_pred = cbr.fit(x_train,y_train).predict(x_valid)\n",
        "\n",
        "print(classification_report(y_valid,cbr_pred))\n",
        "print(\"CatBoostClassifier Accuracy: \",accuracy_score(y_valid, cbr_pred, normalize=True, sample_weight=None))\n"
      ]
    },
    {
      "cell_type": "code",
      "execution_count": 118,
      "metadata": {
        "colab": {
          "base_uri": "https://localhost:8080/"
        },
        "id": "oWdvcgw3jxC1",
        "outputId": "50cb69af-2d36-441e-d537-abe6773ca233"
      },
      "outputs": [
        {
          "name": "stdout",
          "output_type": "stream",
          "text": [
            "[17:03:55] WARNING: C:/Users/Administrator/workspace/xgboost-win64_release_1.4.0/src/learner.cc:1095: Starting in XGBoost 1.3.0, the default evaluation metric used with the objective 'binary:logistic' was changed from 'error' to 'logloss'. Explicitly set eval_metric if you'd like to restore the old behavior.\n"
          ]
        },
        {
          "name": "stderr",
          "output_type": "stream",
          "text": [
            "c:\\Users\\singh\\AppData\\Local\\Programs\\Python\\Python38\\lib\\site-packages\\xgboost\\sklearn.py:1146: UserWarning: The use of label encoder in XGBClassifier is deprecated and will be removed in a future release. To remove this warning, do the following: 1) Pass option use_label_encoder=False when constructing XGBClassifier object; and 2) Encode your labels (y) as integers starting with 0, i.e. 0, 1, 2, ..., [num_class - 1].\n",
            "  warnings.warn(label_encoder_deprecation_msg, UserWarning)\n"
          ]
        },
        {
          "name": "stdout",
          "output_type": "stream",
          "text": [
            "XGB Accuracy:  82.72532188841201\n"
          ]
        }
      ],
      "source": [
        "from xgboost.sklearn import XGBClassifier\n",
        "\n",
        "xgb = XGBClassifier(random_state = 0,n_estimators=500,learning_rate=0.04)\n",
        "\n",
        "xgb.fit(x_train,y_train)\n",
        "\n",
        "y_pred3 = xgb.predict(x_valid)\n",
        "\n",
        "print(\"XGB Accuracy: \",100 * accuracy_score(y_valid, y_pred3, normalize=True, sample_weight=None))"
      ]
    },
    {
      "cell_type": "code",
      "execution_count": 119,
      "metadata": {
        "colab": {
          "base_uri": "https://localhost:8080/"
        },
        "id": "nDLG6QYANU0k",
        "outputId": "734f60a8-1e9f-43e9-a07a-a83ce0ec6530"
      },
      "outputs": [
        {
          "data": {
            "text/plain": [
              "array([0, 1, 0, ..., 0, 1, 0])"
            ]
          },
          "execution_count": 119,
          "metadata": {},
          "output_type": "execute_result"
        }
      ],
      "source": [
        "y_pred3"
      ]
    },
    {
      "cell_type": "code",
      "execution_count": 120,
      "metadata": {
        "colab": {
          "base_uri": "https://localhost:8080/"
        },
        "id": "MlOx9leEkSfr",
        "outputId": "1359d107-47c6-4b11-bdb3-04127e87876d"
      },
      "outputs": [
        {
          "name": "stdout",
          "output_type": "stream",
          "text": [
            "Lightgbm:  82.24248927038627\n"
          ]
        }
      ],
      "source": [
        "from lightgbm import LGBMClassifier\n",
        "\n",
        "lgbm = LGBMClassifier(random_state=5)\n",
        "\n",
        "y_pred11 = lgbm.fit(x_train,y_train).predict(x_valid)\n",
        "\n",
        "print(\"Lightgbm: \",100 * accuracy_score(y_valid, y_pred11, normalize=True, sample_weight=None))"
      ]
    },
    {
      "cell_type": "code",
      "execution_count": 121,
      "metadata": {
        "colab": {
          "base_uri": "https://localhost:8080/"
        },
        "id": "nk2S8HGiSoDJ",
        "outputId": "2bc256ac-6dd3-4c52-dad2-56d5c5dcae77"
      },
      "outputs": [
        {
          "name": "stdout",
          "output_type": "stream",
          "text": [
            "[17:03:58] WARNING: C:/Users/Administrator/workspace/xgboost-win64_release_1.4.0/src/learner.cc:1095: Starting in XGBoost 1.3.0, the default evaluation metric used with the objective 'binary:logistic' was changed from 'error' to 'logloss'. Explicitly set eval_metric if you'd like to restore the old behavior.\n"
          ]
        },
        {
          "name": "stderr",
          "output_type": "stream",
          "text": [
            "c:\\Users\\singh\\AppData\\Local\\Programs\\Python\\Python38\\lib\\site-packages\\xgboost\\sklearn.py:1146: UserWarning: The use of label encoder in XGBClassifier is deprecated and will be removed in a future release. To remove this warning, do the following: 1) Pass option use_label_encoder=False when constructing XGBClassifier object; and 2) Encode your labels (y) as integers starting with 0, i.e. 0, 1, 2, ..., [num_class - 1].\n",
            "  warnings.warn(label_encoder_deprecation_msg, UserWarning)\n"
          ]
        },
        {
          "data": {
            "text/html": [
              "<style>#sk-container-id-2 {color: black;background-color: white;}#sk-container-id-2 pre{padding: 0;}#sk-container-id-2 div.sk-toggleable {background-color: white;}#sk-container-id-2 label.sk-toggleable__label {cursor: pointer;display: block;width: 100%;margin-bottom: 0;padding: 0.3em;box-sizing: border-box;text-align: center;}#sk-container-id-2 label.sk-toggleable__label-arrow:before {content: \"▸\";float: left;margin-right: 0.25em;color: #696969;}#sk-container-id-2 label.sk-toggleable__label-arrow:hover:before {color: black;}#sk-container-id-2 div.sk-estimator:hover label.sk-toggleable__label-arrow:before {color: black;}#sk-container-id-2 div.sk-toggleable__content {max-height: 0;max-width: 0;overflow: hidden;text-align: left;background-color: #f0f8ff;}#sk-container-id-2 div.sk-toggleable__content pre {margin: 0.2em;color: black;border-radius: 0.25em;background-color: #f0f8ff;}#sk-container-id-2 input.sk-toggleable__control:checked~div.sk-toggleable__content {max-height: 200px;max-width: 100%;overflow: auto;}#sk-container-id-2 input.sk-toggleable__control:checked~label.sk-toggleable__label-arrow:before {content: \"▾\";}#sk-container-id-2 div.sk-estimator input.sk-toggleable__control:checked~label.sk-toggleable__label {background-color: #d4ebff;}#sk-container-id-2 div.sk-label input.sk-toggleable__control:checked~label.sk-toggleable__label {background-color: #d4ebff;}#sk-container-id-2 input.sk-hidden--visually {border: 0;clip: rect(1px 1px 1px 1px);clip: rect(1px, 1px, 1px, 1px);height: 1px;margin: -1px;overflow: hidden;padding: 0;position: absolute;width: 1px;}#sk-container-id-2 div.sk-estimator {font-family: monospace;background-color: #f0f8ff;border: 1px dotted black;border-radius: 0.25em;box-sizing: border-box;margin-bottom: 0.5em;}#sk-container-id-2 div.sk-estimator:hover {background-color: #d4ebff;}#sk-container-id-2 div.sk-parallel-item::after {content: \"\";width: 100%;border-bottom: 1px solid gray;flex-grow: 1;}#sk-container-id-2 div.sk-label:hover label.sk-toggleable__label {background-color: #d4ebff;}#sk-container-id-2 div.sk-serial::before {content: \"\";position: absolute;border-left: 1px solid gray;box-sizing: border-box;top: 0;bottom: 0;left: 50%;z-index: 0;}#sk-container-id-2 div.sk-serial {display: flex;flex-direction: column;align-items: center;background-color: white;padding-right: 0.2em;padding-left: 0.2em;position: relative;}#sk-container-id-2 div.sk-item {position: relative;z-index: 1;}#sk-container-id-2 div.sk-parallel {display: flex;align-items: stretch;justify-content: center;background-color: white;position: relative;}#sk-container-id-2 div.sk-item::before, #sk-container-id-2 div.sk-parallel-item::before {content: \"\";position: absolute;border-left: 1px solid gray;box-sizing: border-box;top: 0;bottom: 0;left: 50%;z-index: -1;}#sk-container-id-2 div.sk-parallel-item {display: flex;flex-direction: column;z-index: 1;position: relative;background-color: white;}#sk-container-id-2 div.sk-parallel-item:first-child::after {align-self: flex-end;width: 50%;}#sk-container-id-2 div.sk-parallel-item:last-child::after {align-self: flex-start;width: 50%;}#sk-container-id-2 div.sk-parallel-item:only-child::after {width: 0;}#sk-container-id-2 div.sk-dashed-wrapped {border: 1px dashed gray;margin: 0 0.4em 0.5em 0.4em;box-sizing: border-box;padding-bottom: 0.4em;background-color: white;}#sk-container-id-2 div.sk-label label {font-family: monospace;font-weight: bold;display: inline-block;line-height: 1.2em;}#sk-container-id-2 div.sk-label-container {text-align: center;}#sk-container-id-2 div.sk-container {/* jupyter's `normalize.less` sets `[hidden] { display: none; }` but bootstrap.min.css set `[hidden] { display: none !important; }` so we also need the `!important` here to be able to override the default hidden behavior on the sphinx rendered scikit-learn.org. See: https://github.com/scikit-learn/scikit-learn/issues/21755 */display: inline-block !important;position: relative;}#sk-container-id-2 div.sk-text-repr-fallback {display: none;}</style><div id=\"sk-container-id-2\" class=\"sk-top-container\"><div class=\"sk-text-repr-fallback\"><pre>XGBClassifier(base_score=0.5, booster=&#x27;gbtree&#x27;, colsample_bylevel=1,\n",
              "              colsample_bynode=1, colsample_bytree=1, gamma=0, gpu_id=-1,\n",
              "              importance_type=&#x27;gain&#x27;, interaction_constraints=&#x27;&#x27;,\n",
              "              learning_rate=0.04, max_delta_step=0, max_depth=6,\n",
              "              min_child_weight=1, missing=nan, monotone_constraints=&#x27;()&#x27;,\n",
              "              n_estimators=500, n_jobs=8, num_parallel_tree=1, random_state=0,\n",
              "              reg_alpha=0, reg_lambda=1, scale_pos_weight=1, subsample=1,\n",
              "              tree_method=&#x27;exact&#x27;, validate_parameters=1, verbosity=None)</pre><b>In a Jupyter environment, please rerun this cell to show the HTML representation or trust the notebook. <br />On GitHub, the HTML representation is unable to render, please try loading this page with nbviewer.org.</b></div><div class=\"sk-container\" hidden><div class=\"sk-item\"><div class=\"sk-estimator sk-toggleable\"><input class=\"sk-toggleable__control sk-hidden--visually\" id=\"sk-estimator-id-2\" type=\"checkbox\" checked><label for=\"sk-estimator-id-2\" class=\"sk-toggleable__label sk-toggleable__label-arrow\">XGBClassifier</label><div class=\"sk-toggleable__content\"><pre>XGBClassifier(base_score=0.5, booster=&#x27;gbtree&#x27;, colsample_bylevel=1,\n",
              "              colsample_bynode=1, colsample_bytree=1, gamma=0, gpu_id=-1,\n",
              "              importance_type=&#x27;gain&#x27;, interaction_constraints=&#x27;&#x27;,\n",
              "              learning_rate=0.04, max_delta_step=0, max_depth=6,\n",
              "              min_child_weight=1, missing=nan, monotone_constraints=&#x27;()&#x27;,\n",
              "              n_estimators=500, n_jobs=8, num_parallel_tree=1, random_state=0,\n",
              "              reg_alpha=0, reg_lambda=1, scale_pos_weight=1, subsample=1,\n",
              "              tree_method=&#x27;exact&#x27;, validate_parameters=1, verbosity=None)</pre></div></div></div></div></div>"
            ],
            "text/plain": [
              "XGBClassifier(base_score=0.5, booster='gbtree', colsample_bylevel=1,\n",
              "              colsample_bynode=1, colsample_bytree=1, gamma=0, gpu_id=-1,\n",
              "              importance_type='gain', interaction_constraints='',\n",
              "              learning_rate=0.04, max_delta_step=0, max_depth=6,\n",
              "              min_child_weight=1, missing=nan, monotone_constraints='()',\n",
              "              n_estimators=500, n_jobs=8, num_parallel_tree=1, random_state=0,\n",
              "              reg_alpha=0, reg_lambda=1, scale_pos_weight=1, subsample=1,\n",
              "              tree_method='exact', validate_parameters=1, verbosity=None)"
            ]
          },
          "execution_count": 121,
          "metadata": {},
          "output_type": "execute_result"
        }
      ],
      "source": [
        "xgb.fit(train_x,train_y)"
      ]
    },
    {
      "cell_type": "code",
      "execution_count": 122,
      "metadata": {
        "id": "ErvYdedHTDSj"
      },
      "outputs": [],
      "source": [
        "test_x = np.array(test_x)\n",
        "y_pred = xgb.predict(test_x)"
      ]
    },
    {
      "cell_type": "code",
      "execution_count": 123,
      "metadata": {
        "colab": {
          "base_uri": "https://localhost:8080/"
        },
        "id": "VVl_cGfzMRY_",
        "outputId": "a1bb4373-ecc6-4514-d187-1dea1ef18f38"
      },
      "outputs": [
        {
          "data": {
            "text/plain": [
              "array([0, 0, 0, 0, 0, 0, 0, 1, 1, 0, 0, 0, 0, 0, 0, 1, 0, 0, 0, 1, 0, 0,\n",
              "       1, 1, 0, 1, 0, 1, 0, 1, 1, 0, 0, 0, 0, 0, 0, 1, 1, 0, 0, 0, 0, 0,\n",
              "       1, 1, 1, 1, 1, 0, 1, 0, 0, 0, 0, 1, 0, 0, 0, 0, 0, 0, 1, 0, 0, 0,\n",
              "       1, 0, 1, 0, 0, 0, 1, 0, 0, 1, 0, 0, 1, 0, 0, 0, 1, 0, 0, 0, 1, 0,\n",
              "       0, 0, 1, 0, 1, 0, 0, 0, 0, 1, 1, 1, 0, 0, 0, 0, 0, 1, 0, 0, 0, 0,\n",
              "       0, 0, 0, 0, 0, 0, 1, 0, 0, 0, 0, 0, 0, 0, 0, 0, 0, 0, 0, 0, 0, 0,\n",
              "       1, 0, 1, 0, 0, 0, 0, 0, 0, 1, 0, 1, 0, 0, 1, 0, 0, 0, 0, 0, 0, 0,\n",
              "       0, 0, 0, 0, 1, 0, 1, 0, 1, 0, 0, 0, 0, 0, 0, 0, 1, 0, 1, 0, 0, 0,\n",
              "       0, 1, 0, 0, 1, 0, 0, 0, 0, 1, 0, 1, 0, 0, 0, 1, 0, 1, 0, 0, 0, 1,\n",
              "       1, 1, 1, 0, 0, 1, 0, 0, 0, 1, 0, 0, 0, 0, 0, 0, 0, 0, 0, 0, 0, 0,\n",
              "       0, 0, 1, 0, 1, 0, 1, 0, 0, 0, 0, 0, 0, 0, 0, 1, 0, 1, 1, 0, 0, 1,\n",
              "       0, 0, 1, 0, 0, 0, 0, 1, 1, 0, 1, 0, 0, 0, 1, 0, 0, 0, 0, 0, 0, 0,\n",
              "       0, 1, 0, 0, 1, 0, 1, 1, 0, 1, 0, 1, 0, 0, 0, 0, 0, 0, 0, 1, 0, 0,\n",
              "       1, 1, 0, 1, 0, 0, 0, 0, 0, 0, 1, 0, 0, 0, 1, 0, 0, 0, 0, 0, 0, 1,\n",
              "       1, 0, 1, 0, 0, 1, 0, 1, 0, 0, 0, 0, 0, 0, 0, 0, 0, 1, 1, 1, 1, 0,\n",
              "       0, 1, 0, 0, 1, 0, 0, 1, 0, 1, 1, 0, 0, 0, 0, 0, 0, 0, 0, 0, 1, 0,\n",
              "       1, 0, 0, 1, 0, 1, 1, 0, 1, 1, 1, 0, 1, 1, 1, 0, 0, 0, 1, 1, 0, 0,\n",
              "       0, 1, 0, 0, 0, 0, 0, 1, 0, 1, 1, 1, 0, 0, 0, 0, 0, 0, 0, 0, 0, 0,\n",
              "       0, 0, 0, 0, 1, 1, 0, 1, 0, 0, 0, 0, 0, 1, 0, 0, 0, 1, 0, 1, 1, 0,\n",
              "       0, 1, 1, 0, 1, 1, 0, 1, 0, 0, 0, 0, 0, 0, 1, 1, 0, 1, 1, 0, 0, 0,\n",
              "       0, 0, 0, 0, 0, 1, 1, 0, 0, 0, 0, 0, 1, 0, 0, 1, 1, 1, 0, 0, 1, 0,\n",
              "       0, 0, 0, 1, 0, 0, 1, 1, 1, 1, 1, 0, 1, 0, 1, 1, 0, 0, 1, 0, 1, 1,\n",
              "       1, 1, 1, 0, 0, 0, 0, 0, 1, 0, 0, 0, 1, 0, 0, 0, 1, 0, 0, 0, 1, 1,\n",
              "       0, 0, 0, 0, 0, 0, 1, 0, 1, 0, 0, 1, 0, 0, 0, 0, 0, 1, 0, 1, 1, 0,\n",
              "       0, 0, 0, 0, 0, 0, 0, 1, 1, 1, 1, 1, 0, 1, 0, 1, 1, 0, 0, 1, 1, 0,\n",
              "       0, 0, 0, 0, 0, 0, 0, 0, 1, 0, 0, 0, 0, 0, 0, 0, 0, 0, 0, 0, 1, 0,\n",
              "       1, 0, 1, 0, 0, 0, 0, 1, 0, 0, 0, 0, 0, 0, 0, 1, 0, 0, 1, 0, 1, 0,\n",
              "       1, 1, 0, 0, 0, 1, 0, 1, 1, 0, 1, 0, 1, 0, 1, 0, 0, 0, 0, 0, 0, 0,\n",
              "       0, 1, 1, 0, 0, 0, 0, 0, 1, 0, 1, 0, 0, 1, 1, 0, 0, 0, 1, 0, 0, 1,\n",
              "       0, 0, 0, 1, 1, 0, 0, 0, 0, 0, 1, 0, 0, 0, 1, 0, 0, 0, 0, 0, 0, 0,\n",
              "       1, 1, 0, 0, 0, 1, 0, 0, 0, 0, 1, 0, 0, 0, 1, 1, 0, 0, 0, 1, 0, 0,\n",
              "       1, 0, 0, 0, 0, 1, 1, 0, 0, 0, 0, 0, 1, 0, 0, 0, 1, 0, 1, 1, 1, 1,\n",
              "       0])"
            ]
          },
          "execution_count": 123,
          "metadata": {},
          "output_type": "execute_result"
        }
      ],
      "source": [
        "y_pred\n"
      ]
    },
    {
      "cell_type": "code",
      "execution_count": 124,
      "metadata": {
        "id": "-2jyZXG1ckPz"
      },
      "outputs": [],
      "source": [
        "preds = []\n",
        "for i in y_pred:\n",
        "  if i==1:\n",
        "    preds.append('Yes')\n",
        "  else:\n",
        "    preds.append('No')\n"
      ]
    },
    {
      "cell_type": "code",
      "execution_count": 125,
      "metadata": {
        "colab": {
          "base_uri": "https://localhost:8080/",
          "height": 416
        },
        "id": "tG0SOHUsdM6n",
        "outputId": "82c8ce1b-0847-4e10-9584-13dc31065bf2"
      },
      "outputs": [
        {
          "data": {
            "text/html": [
              "<div>\n",
              "<style scoped>\n",
              "    .dataframe tbody tr th:only-of-type {\n",
              "        vertical-align: middle;\n",
              "    }\n",
              "\n",
              "    .dataframe tbody tr th {\n",
              "        vertical-align: top;\n",
              "    }\n",
              "\n",
              "    .dataframe thead th {\n",
              "        text-align: right;\n",
              "    }\n",
              "</style>\n",
              "<table border=\"1\" class=\"dataframe\">\n",
              "  <thead>\n",
              "    <tr style=\"text-align: right;\">\n",
              "      <th></th>\n",
              "      <th>ID</th>\n",
              "      <th>CustomerAttrition</th>\n",
              "    </tr>\n",
              "  </thead>\n",
              "  <tbody>\n",
              "    <tr>\n",
              "      <th>0</th>\n",
              "      <td>WMORTPCG3HTIPEFSGUFY</td>\n",
              "      <td>No</td>\n",
              "    </tr>\n",
              "    <tr>\n",
              "      <th>1</th>\n",
              "      <td>GBLPEA16C3KGBO57KEFO</td>\n",
              "      <td>No</td>\n",
              "    </tr>\n",
              "    <tr>\n",
              "      <th>2</th>\n",
              "      <td>IDCQS0CO5P29AMKY3LO1</td>\n",
              "      <td>No</td>\n",
              "    </tr>\n",
              "    <tr>\n",
              "      <th>3</th>\n",
              "      <td>1IY29SDITYU6IFZ4KJB0</td>\n",
              "      <td>No</td>\n",
              "    </tr>\n",
              "    <tr>\n",
              "      <th>4</th>\n",
              "      <td>T5XMW5B0YPCONH30WJD2</td>\n",
              "      <td>No</td>\n",
              "    </tr>\n",
              "    <tr>\n",
              "      <th>...</th>\n",
              "      <td>...</td>\n",
              "      <td>...</td>\n",
              "    </tr>\n",
              "    <tr>\n",
              "      <th>700</th>\n",
              "      <td>8M7JJ5JBQUIA0ORLJ1UU</td>\n",
              "      <td>Yes</td>\n",
              "    </tr>\n",
              "    <tr>\n",
              "      <th>701</th>\n",
              "      <td>WS1T1FLY87G9A1UNKST4</td>\n",
              "      <td>Yes</td>\n",
              "    </tr>\n",
              "    <tr>\n",
              "      <th>702</th>\n",
              "      <td>0XG96FS1KXZSULPSGA1X</td>\n",
              "      <td>Yes</td>\n",
              "    </tr>\n",
              "    <tr>\n",
              "      <th>703</th>\n",
              "      <td>YR858QHNQMCDBCT9JRP6</td>\n",
              "      <td>Yes</td>\n",
              "    </tr>\n",
              "    <tr>\n",
              "      <th>704</th>\n",
              "      <td>IMKOIG7YFZ3KHC2OMFMH</td>\n",
              "      <td>No</td>\n",
              "    </tr>\n",
              "  </tbody>\n",
              "</table>\n",
              "<p>705 rows × 2 columns</p>\n",
              "</div>"
            ],
            "text/plain": [
              "                       ID CustomerAttrition\n",
              "0    WMORTPCG3HTIPEFSGUFY                No\n",
              "1    GBLPEA16C3KGBO57KEFO                No\n",
              "2    IDCQS0CO5P29AMKY3LO1                No\n",
              "3    1IY29SDITYU6IFZ4KJB0                No\n",
              "4    T5XMW5B0YPCONH30WJD2                No\n",
              "..                    ...               ...\n",
              "700  8M7JJ5JBQUIA0ORLJ1UU               Yes\n",
              "701  WS1T1FLY87G9A1UNKST4               Yes\n",
              "702  0XG96FS1KXZSULPSGA1X               Yes\n",
              "703  YR858QHNQMCDBCT9JRP6               Yes\n",
              "704  IMKOIG7YFZ3KHC2OMFMH                No\n",
              "\n",
              "[705 rows x 2 columns]"
            ]
          },
          "execution_count": 125,
          "metadata": {},
          "output_type": "execute_result"
        }
      ],
      "source": [
        "y = pd.DataFrame()\n",
        "x = pd.read_csv('test.csv')\n",
        "y['ID'] = x['ID']\n",
        "y['CustomerAttrition'] = preds\n",
        "y"
      ]
    },
    {
      "cell_type": "code",
      "execution_count": 126,
      "metadata": {
        "id": "aZZjlxUudjQp"
      },
      "outputs": [],
      "source": [
        "y.to_csv('XGB.csv')"
      ]
    },
    {
      "cell_type": "code",
      "execution_count": null,
      "metadata": {
        "id": "30M3-QeadkAN"
      },
      "outputs": [],
      "source": []
    },
    {
      "cell_type": "code",
      "execution_count": null,
      "metadata": {
        "id": "zXTQXKBVeuS-"
      },
      "outputs": [],
      "source": []
    }
  ],
  "metadata": {
    "colab": {
      "name": "Customer_Attrition_Prediction",
      "provenance": []
    },
    "interpreter": {
      "hash": "ab8298a8a40eafa47de1d81b039ef0f86bb669bfa242cfc6a83e1feea53770dd"
    },
    "kernelspec": {
      "display_name": "Python 3.8.7 64-bit",
      "language": "python",
      "name": "python3"
    },
    "language_info": {
      "codemirror_mode": {
        "name": "ipython",
        "version": 3
      },
      "file_extension": ".py",
      "mimetype": "text/x-python",
      "name": "python",
      "nbconvert_exporter": "python",
      "pygments_lexer": "ipython3",
      "version": "3.8.7"
    }
  },
  "nbformat": 4,
  "nbformat_minor": 0
}
